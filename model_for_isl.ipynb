{
 "cells": [
  {
   "cell_type": "code",
   "execution_count": 1,
   "id": "ef1edb32-adb6-46a8-9603-1aa962c31c18",
   "metadata": {},
   "outputs": [],
   "source": [
    "import os\n",
    "import cv2\n",
    "import numpy as np\n",
    "import mediapipe as mp\n",
    "from tensorflow.keras.models import Sequential\n",
    "from tensorflow.keras.layers import Dense, Dropout\n",
    "from tensorflow.keras.utils import to_categorical\n",
    "from sklearn.model_selection import train_test_split\n",
    "from sklearn.utils.class_weight import compute_class_weight"
   ]
  },
  {
   "cell_type": "code",
   "execution_count": 2,
   "id": "c977f900-cb71-4e24-97d4-0a4e6f8098d1",
   "metadata": {},
   "outputs": [],
   "source": [
    "# === Configuration ===\n",
    "DATA_DIR = 'isl'\n",
    "images_per_class = 1200\n",
    "\n",
    "# === Load only valid class folders ===\n",
    "LABELS = sorted([d for d in os.listdir(DATA_DIR) if os.path.isdir(os.path.join(DATA_DIR, d))])\n",
    "LABEL_TO_INDEX = {label: idx for idx, label in enumerate(LABELS)}\n",
    "NUM_CLASSES = len(LABELS)\n",
    "\n",
    "# === MediaPipe Setup ===\n",
    "mp_hands = mp.solutions.hands"
   ]
  },
  {
   "cell_type": "code",
   "execution_count": 3,
   "id": "090cad40-cb19-42a4-b3e2-ec241702a35e",
   "metadata": {},
   "outputs": [],
   "source": [
    "def extract_landmarks(image_path):\n",
    "    image = cv2.imread(image_path)\n",
    "    image_rgb = cv2.cvtColor(image, cv2.COLOR_BGR2RGB)\n",
    "    with mp_hands.Hands(static_image_mode=True) as hands:\n",
    "        result = hands.process(image_rgb)\n",
    "        if result.multi_hand_landmarks:\n",
    "            landmarks = []\n",
    "            for lm in result.multi_hand_landmarks[0].landmark:\n",
    "                landmarks.extend([lm.x, lm.y, lm.z])\n",
    "            return landmarks\n",
    "    return None"
   ]
  },
  {
   "cell_type": "code",
   "execution_count": 4,
   "id": "c8dbedf2-beae-44e3-828f-bea890698bc2",
   "metadata": {},
   "outputs": [],
   "source": [
    "def load_dataset():\n",
    "    X, y = [], []\n",
    "    for label in LABELS:\n",
    "        label_dir = os.path.join(DATA_DIR, label)\n",
    "        count = 0\n",
    "        for img_name in os.listdir(label_dir):\n",
    "            img_path = os.path.join(label_dir, img_name)\n",
    "            try:\n",
    "                landmarks = extract_landmarks(img_path)\n",
    "                if landmarks:\n",
    "                    X.append(landmarks)\n",
    "                    y.append(LABEL_TO_INDEX[label])\n",
    "                    count += 1\n",
    "                if count >= images_per_class:\n",
    "                    break\n",
    "            except Exception as e:\n",
    "                print(f\"Error in {img_path}: {e}\")\n",
    "    return np.array(X), to_categorical(y, NUM_CLASSES)"
   ]
  },
  {
   "cell_type": "code",
   "execution_count": 5,
   "id": "059030c5-e26b-43f7-aa79-c113cd653d64",
   "metadata": {},
   "outputs": [
    {
     "name": "stdout",
     "output_type": "stream",
     "text": [
      "Loading data...\n"
     ]
    }
   ],
   "source": [
    "# === Load and split data ===\n",
    "print(\"Loading data...\")\n",
    "X, y = load_dataset()\n",
    "X_train, X_test, y_train, y_test = train_test_split(X, y, test_size=0.2, random_state=42)"
   ]
  },
  {
   "cell_type": "code",
   "execution_count": 10,
   "id": "4c80e913-37c2-477f-a21a-f2a071eec2a9",
   "metadata": {},
   "outputs": [],
   "source": [
    "# === Compute class weights ===\n",
    "y_int = np.argmax(y_train, axis=1)\n",
    "class_weights = compute_class_weight('balanced', classes=np.unique(y_int), y=y_int)\n",
    "class_weights_dict = dict(enumerate(class_weights))"
   ]
  },
  {
   "cell_type": "code",
   "execution_count": 11,
   "id": "bdca0823-e551-4845-9d0a-13424c5000ac",
   "metadata": {},
   "outputs": [
    {
     "name": "stderr",
     "output_type": "stream",
     "text": [
      "c:\\users\\karan\\appdata\\local\\programs\\python\\python39\\lib\\site-packages\\keras\\src\\layers\\core\\dense.py:87: UserWarning: Do not pass an `input_shape`/`input_dim` argument to a layer. When using Sequential models, prefer using an `Input(shape)` object as the first layer in the model instead.\n",
      "  super().__init__(activity_regularizer=activity_regularizer, **kwargs)\n"
     ]
    }
   ],
   "source": [
    "# Define model\n",
    "model = Sequential([\n",
    "    Dense(128, activation='relu', input_shape=(X_train.shape[1],)),\n",
    "    Dropout(0.3),\n",
    "    Dense(64, activation='relu'),\n",
    "    Dropout(0.3),\n",
    "    Dense(NUM_CLASSES, activation='softmax')\n",
    "])"
   ]
  },
  {
   "cell_type": "code",
   "execution_count": 12,
   "id": "858a2983-1eb7-4fca-9afa-036051829adf",
   "metadata": {},
   "outputs": [
    {
     "name": "stdout",
     "output_type": "stream",
     "text": [
      "Training model...\n",
      "Epoch 1/50\n",
      "\u001b[1m1036/1036\u001b[0m \u001b[32m━━━━━━━━━━━━━━━━━━━━\u001b[0m\u001b[37m\u001b[0m \u001b[1m2s\u001b[0m 2ms/step - accuracy: 0.3477 - loss: 2.4035 - val_accuracy: 0.9156 - val_loss: 0.4055\n",
      "Epoch 2/50\n",
      "\u001b[1m1036/1036\u001b[0m \u001b[32m━━━━━━━━━━━━━━━━━━━━\u001b[0m\u001b[37m\u001b[0m \u001b[1m2s\u001b[0m 2ms/step - accuracy: 0.8445 - loss: 0.5604 - val_accuracy: 0.9825 - val_loss: 0.1355\n",
      "Epoch 3/50\n",
      "\u001b[1m1036/1036\u001b[0m \u001b[32m━━━━━━━━━━━━━━━━━━━━\u001b[0m\u001b[37m\u001b[0m \u001b[1m2s\u001b[0m 2ms/step - accuracy: 0.9229 - loss: 0.2861 - val_accuracy: 0.9870 - val_loss: 0.0690\n",
      "Epoch 4/50\n",
      "\u001b[1m1036/1036\u001b[0m \u001b[32m━━━━━━━━━━━━━━━━━━━━\u001b[0m\u001b[37m\u001b[0m \u001b[1m2s\u001b[0m 2ms/step - accuracy: 0.9484 - loss: 0.1936 - val_accuracy: 0.9914 - val_loss: 0.0474\n",
      "Epoch 5/50\n",
      "\u001b[1m1036/1036\u001b[0m \u001b[32m━━━━━━━━━━━━━━━━━━━━\u001b[0m\u001b[37m\u001b[0m \u001b[1m2s\u001b[0m 2ms/step - accuracy: 0.9623 - loss: 0.1452 - val_accuracy: 0.9905 - val_loss: 0.0344\n",
      "Epoch 6/50\n",
      "\u001b[1m1036/1036\u001b[0m \u001b[32m━━━━━━━━━━━━━━━━━━━━\u001b[0m\u001b[37m\u001b[0m \u001b[1m2s\u001b[0m 2ms/step - accuracy: 0.9703 - loss: 0.1130 - val_accuracy: 0.9942 - val_loss: 0.0248\n",
      "Epoch 7/50\n",
      "\u001b[1m1036/1036\u001b[0m \u001b[32m━━━━━━━━━━━━━━━━━━━━\u001b[0m\u001b[37m\u001b[0m \u001b[1m2s\u001b[0m 2ms/step - accuracy: 0.9727 - loss: 0.0973 - val_accuracy: 0.9963 - val_loss: 0.0193\n",
      "Epoch 8/50\n",
      "\u001b[1m1036/1036\u001b[0m \u001b[32m━━━━━━━━━━━━━━━━━━━━\u001b[0m\u001b[37m\u001b[0m \u001b[1m2s\u001b[0m 2ms/step - accuracy: 0.9772 - loss: 0.0841 - val_accuracy: 0.9959 - val_loss: 0.0174\n",
      "Epoch 9/50\n",
      "\u001b[1m1036/1036\u001b[0m \u001b[32m━━━━━━━━━━━━━━━━━━━━\u001b[0m\u001b[37m\u001b[0m \u001b[1m2s\u001b[0m 2ms/step - accuracy: 0.9803 - loss: 0.0701 - val_accuracy: 0.9963 - val_loss: 0.0140\n",
      "Epoch 10/50\n",
      "\u001b[1m1036/1036\u001b[0m \u001b[32m━━━━━━━━━━━━━━━━━━━━\u001b[0m\u001b[37m\u001b[0m \u001b[1m2s\u001b[0m 2ms/step - accuracy: 0.9794 - loss: 0.0706 - val_accuracy: 0.9952 - val_loss: 0.0130\n",
      "Epoch 11/50\n",
      "\u001b[1m1036/1036\u001b[0m \u001b[32m━━━━━━━━━━━━━━━━━━━━\u001b[0m\u001b[37m\u001b[0m \u001b[1m2s\u001b[0m 2ms/step - accuracy: 0.9809 - loss: 0.0611 - val_accuracy: 0.9971 - val_loss: 0.0120\n",
      "Epoch 12/50\n",
      "\u001b[1m1036/1036\u001b[0m \u001b[32m━━━━━━━━━━━━━━━━━━━━\u001b[0m\u001b[37m\u001b[0m \u001b[1m2s\u001b[0m 2ms/step - accuracy: 0.9828 - loss: 0.0556 - val_accuracy: 0.9988 - val_loss: 0.0081\n",
      "Epoch 13/50\n",
      "\u001b[1m1036/1036\u001b[0m \u001b[32m━━━━━━━━━━━━━━━━━━━━\u001b[0m\u001b[37m\u001b[0m \u001b[1m2s\u001b[0m 2ms/step - accuracy: 0.9845 - loss: 0.0525 - val_accuracy: 0.9973 - val_loss: 0.0094\n",
      "Epoch 14/50\n",
      "\u001b[1m1036/1036\u001b[0m \u001b[32m━━━━━━━━━━━━━━━━━━━━\u001b[0m\u001b[37m\u001b[0m \u001b[1m2s\u001b[0m 2ms/step - accuracy: 0.9850 - loss: 0.0496 - val_accuracy: 0.9987 - val_loss: 0.0081\n",
      "Epoch 15/50\n",
      "\u001b[1m1036/1036\u001b[0m \u001b[32m━━━━━━━━━━━━━━━━━━━━\u001b[0m\u001b[37m\u001b[0m \u001b[1m2s\u001b[0m 2ms/step - accuracy: 0.9875 - loss: 0.0421 - val_accuracy: 0.9993 - val_loss: 0.0055\n",
      "Epoch 16/50\n",
      "\u001b[1m1036/1036\u001b[0m \u001b[32m━━━━━━━━━━━━━━━━━━━━\u001b[0m\u001b[37m\u001b[0m \u001b[1m2s\u001b[0m 2ms/step - accuracy: 0.9869 - loss: 0.0439 - val_accuracy: 0.9986 - val_loss: 0.0065\n",
      "Epoch 17/50\n",
      "\u001b[1m1036/1036\u001b[0m \u001b[32m━━━━━━━━━━━━━━━━━━━━\u001b[0m\u001b[37m\u001b[0m \u001b[1m2s\u001b[0m 2ms/step - accuracy: 0.9880 - loss: 0.0390 - val_accuracy: 0.9992 - val_loss: 0.0055\n",
      "Epoch 18/50\n",
      "\u001b[1m1036/1036\u001b[0m \u001b[32m━━━━━━━━━━━━━━━━━━━━\u001b[0m\u001b[37m\u001b[0m \u001b[1m2s\u001b[0m 2ms/step - accuracy: 0.9867 - loss: 0.0416 - val_accuracy: 0.9994 - val_loss: 0.0049\n",
      "Epoch 19/50\n",
      "\u001b[1m1036/1036\u001b[0m \u001b[32m━━━━━━━━━━━━━━━━━━━━\u001b[0m\u001b[37m\u001b[0m \u001b[1m2s\u001b[0m 2ms/step - accuracy: 0.9896 - loss: 0.0325 - val_accuracy: 0.9995 - val_loss: 0.0043\n",
      "Epoch 20/50\n",
      "\u001b[1m1036/1036\u001b[0m \u001b[32m━━━━━━━━━━━━━━━━━━━━\u001b[0m\u001b[37m\u001b[0m \u001b[1m2s\u001b[0m 2ms/step - accuracy: 0.9892 - loss: 0.0377 - val_accuracy: 0.9993 - val_loss: 0.0042\n",
      "Epoch 21/50\n",
      "\u001b[1m1036/1036\u001b[0m \u001b[32m━━━━━━━━━━━━━━━━━━━━\u001b[0m\u001b[37m\u001b[0m \u001b[1m2s\u001b[0m 2ms/step - accuracy: 0.9903 - loss: 0.0374 - val_accuracy: 0.9988 - val_loss: 0.0056\n",
      "Epoch 22/50\n",
      "\u001b[1m1036/1036\u001b[0m \u001b[32m━━━━━━━━━━━━━━━━━━━━\u001b[0m\u001b[37m\u001b[0m \u001b[1m2s\u001b[0m 2ms/step - accuracy: 0.9889 - loss: 0.0368 - val_accuracy: 0.9988 - val_loss: 0.0052\n",
      "Epoch 23/50\n",
      "\u001b[1m1036/1036\u001b[0m \u001b[32m━━━━━━━━━━━━━━━━━━━━\u001b[0m\u001b[37m\u001b[0m \u001b[1m2s\u001b[0m 2ms/step - accuracy: 0.9901 - loss: 0.0330 - val_accuracy: 0.9992 - val_loss: 0.0041\n",
      "Epoch 24/50\n",
      "\u001b[1m1036/1036\u001b[0m \u001b[32m━━━━━━━━━━━━━━━━━━━━\u001b[0m\u001b[37m\u001b[0m \u001b[1m2s\u001b[0m 2ms/step - accuracy: 0.9901 - loss: 0.0316 - val_accuracy: 0.9996 - val_loss: 0.0039\n",
      "Epoch 25/50\n",
      "\u001b[1m1036/1036\u001b[0m \u001b[32m━━━━━━━━━━━━━━━━━━━━\u001b[0m\u001b[37m\u001b[0m \u001b[1m2s\u001b[0m 2ms/step - accuracy: 0.9911 - loss: 0.0304 - val_accuracy: 0.9993 - val_loss: 0.0056\n",
      "Epoch 26/50\n",
      "\u001b[1m1036/1036\u001b[0m \u001b[32m━━━━━━━━━━━━━━━━━━━━\u001b[0m\u001b[37m\u001b[0m \u001b[1m2s\u001b[0m 2ms/step - accuracy: 0.9902 - loss: 0.0309 - val_accuracy: 0.9998 - val_loss: 0.0030\n",
      "Epoch 27/50\n",
      "\u001b[1m1036/1036\u001b[0m \u001b[32m━━━━━━━━━━━━━━━━━━━━\u001b[0m\u001b[37m\u001b[0m \u001b[1m2s\u001b[0m 2ms/step - accuracy: 0.9916 - loss: 0.0261 - val_accuracy: 0.9998 - val_loss: 0.0025\n",
      "Epoch 28/50\n",
      "\u001b[1m1036/1036\u001b[0m \u001b[32m━━━━━━━━━━━━━━━━━━━━\u001b[0m\u001b[37m\u001b[0m \u001b[1m2s\u001b[0m 2ms/step - accuracy: 0.9898 - loss: 0.0325 - val_accuracy: 0.9998 - val_loss: 0.0034\n",
      "Epoch 29/50\n",
      "\u001b[1m1036/1036\u001b[0m \u001b[32m━━━━━━━━━━━━━━━━━━━━\u001b[0m\u001b[37m\u001b[0m \u001b[1m2s\u001b[0m 2ms/step - accuracy: 0.9905 - loss: 0.0302 - val_accuracy: 0.9996 - val_loss: 0.0031\n",
      "Epoch 30/50\n",
      "\u001b[1m1036/1036\u001b[0m \u001b[32m━━━━━━━━━━━━━━━━━━━━\u001b[0m\u001b[37m\u001b[0m \u001b[1m2s\u001b[0m 2ms/step - accuracy: 0.9917 - loss: 0.0271 - val_accuracy: 0.9998 - val_loss: 0.0036\n",
      "Epoch 31/50\n",
      "\u001b[1m1036/1036\u001b[0m \u001b[32m━━━━━━━━━━━━━━━━━━━━\u001b[0m\u001b[37m\u001b[0m \u001b[1m2s\u001b[0m 2ms/step - accuracy: 0.9927 - loss: 0.0247 - val_accuracy: 0.9990 - val_loss: 0.0040\n",
      "Epoch 32/50\n",
      "\u001b[1m1036/1036\u001b[0m \u001b[32m━━━━━━━━━━━━━━━━━━━━\u001b[0m\u001b[37m\u001b[0m \u001b[1m2s\u001b[0m 2ms/step - accuracy: 0.9922 - loss: 0.0243 - val_accuracy: 0.9996 - val_loss: 0.0022\n",
      "Epoch 33/50\n",
      "\u001b[1m1036/1036\u001b[0m \u001b[32m━━━━━━━━━━━━━━━━━━━━\u001b[0m\u001b[37m\u001b[0m \u001b[1m2s\u001b[0m 2ms/step - accuracy: 0.9914 - loss: 0.0257 - val_accuracy: 0.9995 - val_loss: 0.0030\n",
      "Epoch 34/50\n",
      "\u001b[1m1036/1036\u001b[0m \u001b[32m━━━━━━━━━━━━━━━━━━━━\u001b[0m\u001b[37m\u001b[0m \u001b[1m2s\u001b[0m 2ms/step - accuracy: 0.9924 - loss: 0.0224 - val_accuracy: 0.9995 - val_loss: 0.0028\n",
      "Epoch 35/50\n",
      "\u001b[1m1036/1036\u001b[0m \u001b[32m━━━━━━━━━━━━━━━━━━━━\u001b[0m\u001b[37m\u001b[0m \u001b[1m2s\u001b[0m 2ms/step - accuracy: 0.9921 - loss: 0.0257 - val_accuracy: 0.9999 - val_loss: 0.0022\n",
      "Epoch 36/50\n",
      "\u001b[1m1036/1036\u001b[0m \u001b[32m━━━━━━━━━━━━━━━━━━━━\u001b[0m\u001b[37m\u001b[0m \u001b[1m2s\u001b[0m 2ms/step - accuracy: 0.9917 - loss: 0.0259 - val_accuracy: 0.9998 - val_loss: 0.0026\n",
      "Epoch 37/50\n",
      "\u001b[1m1036/1036\u001b[0m \u001b[32m━━━━━━━━━━━━━━━━━━━━\u001b[0m\u001b[37m\u001b[0m \u001b[1m2s\u001b[0m 2ms/step - accuracy: 0.9924 - loss: 0.0247 - val_accuracy: 0.9998 - val_loss: 0.0024\n",
      "Epoch 38/50\n",
      "\u001b[1m1036/1036\u001b[0m \u001b[32m━━━━━━━━━━━━━━━━━━━━\u001b[0m\u001b[37m\u001b[0m \u001b[1m2s\u001b[0m 2ms/step - accuracy: 0.9917 - loss: 0.0257 - val_accuracy: 0.9999 - val_loss: 0.0026\n",
      "Epoch 39/50\n",
      "\u001b[1m1036/1036\u001b[0m \u001b[32m━━━━━━━━━━━━━━━━━━━━\u001b[0m\u001b[37m\u001b[0m \u001b[1m2s\u001b[0m 2ms/step - accuracy: 0.9922 - loss: 0.0265 - val_accuracy: 0.9996 - val_loss: 0.0024\n",
      "Epoch 40/50\n",
      "\u001b[1m1036/1036\u001b[0m \u001b[32m━━━━━━━━━━━━━━━━━━━━\u001b[0m\u001b[37m\u001b[0m \u001b[1m2s\u001b[0m 2ms/step - accuracy: 0.9918 - loss: 0.0257 - val_accuracy: 0.9995 - val_loss: 0.0022\n",
      "Epoch 41/50\n",
      "\u001b[1m1036/1036\u001b[0m \u001b[32m━━━━━━━━━━━━━━━━━━━━\u001b[0m\u001b[37m\u001b[0m \u001b[1m2s\u001b[0m 2ms/step - accuracy: 0.9924 - loss: 0.0240 - val_accuracy: 0.9999 - val_loss: 0.0019\n",
      "Epoch 42/50\n",
      "\u001b[1m1036/1036\u001b[0m \u001b[32m━━━━━━━━━━━━━━━━━━━━\u001b[0m\u001b[37m\u001b[0m \u001b[1m2s\u001b[0m 2ms/step - accuracy: 0.9937 - loss: 0.0198 - val_accuracy: 0.9999 - val_loss: 0.0016\n",
      "Epoch 43/50\n",
      "\u001b[1m1036/1036\u001b[0m \u001b[32m━━━━━━━━━━━━━━━━━━━━\u001b[0m\u001b[37m\u001b[0m \u001b[1m2s\u001b[0m 2ms/step - accuracy: 0.9937 - loss: 0.0186 - val_accuracy: 0.9999 - val_loss: 0.0015\n",
      "Epoch 44/50\n",
      "\u001b[1m1036/1036\u001b[0m \u001b[32m━━━━━━━━━━━━━━━━━━━━\u001b[0m\u001b[37m\u001b[0m \u001b[1m2s\u001b[0m 2ms/step - accuracy: 0.9926 - loss: 0.0237 - val_accuracy: 0.9998 - val_loss: 0.0015\n",
      "Epoch 45/50\n",
      "\u001b[1m1036/1036\u001b[0m \u001b[32m━━━━━━━━━━━━━━━━━━━━\u001b[0m\u001b[37m\u001b[0m \u001b[1m2s\u001b[0m 2ms/step - accuracy: 0.9931 - loss: 0.0229 - val_accuracy: 0.9999 - val_loss: 0.0014\n",
      "Epoch 46/50\n",
      "\u001b[1m1036/1036\u001b[0m \u001b[32m━━━━━━━━━━━━━━━━━━━━\u001b[0m\u001b[37m\u001b[0m \u001b[1m2s\u001b[0m 2ms/step - accuracy: 0.9921 - loss: 0.0235 - val_accuracy: 0.9999 - val_loss: 0.0011\n",
      "Epoch 47/50\n",
      "\u001b[1m1036/1036\u001b[0m \u001b[32m━━━━━━━━━━━━━━━━━━━━\u001b[0m\u001b[37m\u001b[0m \u001b[1m2s\u001b[0m 2ms/step - accuracy: 0.9942 - loss: 0.0191 - val_accuracy: 0.9998 - val_loss: 0.0015\n",
      "Epoch 48/50\n",
      "\u001b[1m1036/1036\u001b[0m \u001b[32m━━━━━━━━━━━━━━━━━━━━\u001b[0m\u001b[37m\u001b[0m \u001b[1m2s\u001b[0m 2ms/step - accuracy: 0.9948 - loss: 0.0161 - val_accuracy: 0.9999 - val_loss: 0.0015\n",
      "Epoch 49/50\n",
      "\u001b[1m1036/1036\u001b[0m \u001b[32m━━━━━━━━━━━━━━━━━━━━\u001b[0m\u001b[37m\u001b[0m \u001b[1m2s\u001b[0m 2ms/step - accuracy: 0.9931 - loss: 0.0214 - val_accuracy: 0.9996 - val_loss: 0.0019\n",
      "Epoch 50/50\n",
      "\u001b[1m1036/1036\u001b[0m \u001b[32m━━━━━━━━━━━━━━━━━━━━\u001b[0m\u001b[37m\u001b[0m \u001b[1m2s\u001b[0m 2ms/step - accuracy: 0.9932 - loss: 0.0204 - val_accuracy: 0.9999 - val_loss: 0.0013\n"
     ]
    },
    {
     "data": {
      "text/plain": [
       "<keras.src.callbacks.history.History at 0x12b92064e20>"
      ]
     },
     "execution_count": 12,
     "metadata": {},
     "output_type": "execute_result"
    }
   ],
   "source": [
    "model.compile(optimizer='adam', loss='categorical_crossentropy', metrics=['accuracy'])\n",
    "\n",
    "print(\"Training model...\")\n",
    "model.fit(X_train, y_train, epochs=50, validation_data=(X_test, y_test), class_weight=class_weights_dict)"
   ]
  },
  {
   "cell_type": "code",
   "execution_count": 13,
   "id": "c2941d2d-1dad-4ec8-a0a5-3ed6e1bd6724",
   "metadata": {},
   "outputs": [
    {
     "name": "stderr",
     "output_type": "stream",
     "text": [
      "WARNING:absl:You are saving your model as an HDF5 file via `model.save()` or `keras.saving.save_model(model)`. This file format is considered legacy. We recommend using instead the native Keras format, e.g. `model.save('my_model.keras')` or `keras.saving.save_model(model, 'my_model.keras')`. \n"
     ]
    },
    {
     "name": "stdout",
     "output_type": "stream",
     "text": [
      "✅ Model trained and saved successfully.\n"
     ]
    }
   ],
   "source": [
    "# Save model\n",
    "model.save('model/isl_cnn_model.h5')\n",
    "print(\"✅ Model trained and saved successfully.\")"
   ]
  },
  {
   "cell_type": "code",
   "execution_count": null,
   "id": "b6d79184-28da-48b1-b536-b201bfc5e449",
   "metadata": {},
   "outputs": [],
   "source": []
  }
 ],
 "metadata": {
  "kernelspec": {
   "display_name": "Python 3 (ipykernel)",
   "language": "python",
   "name": "python3"
  },
  "language_info": {
   "codemirror_mode": {
    "name": "ipython",
    "version": 3
   },
   "file_extension": ".py",
   "mimetype": "text/x-python",
   "name": "python",
   "nbconvert_exporter": "python",
   "pygments_lexer": "ipython3",
   "version": "3.9.13"
  }
 },
 "nbformat": 4,
 "nbformat_minor": 5
}
