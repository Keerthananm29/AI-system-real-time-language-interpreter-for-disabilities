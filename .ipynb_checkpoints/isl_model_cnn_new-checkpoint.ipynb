{
 "cells": [
  {
   "cell_type": "code",
   "execution_count": 1,
   "id": "269d1ac8-c28c-4d4f-9a4b-e7ef0e32a760",
   "metadata": {},
   "outputs": [],
   "source": [
    "import os\n",
    "import cv2\n",
    "import numpy as np\n",
    "import mediapipe as mp\n",
    "from sklearn.model_selection import StratifiedKFold\n",
    "from sklearn.preprocessing import StandardScaler\n",
    "from sklearn.utils.class_weight import compute_class_weight\n",
    "from tensorflow.keras.models import Sequential\n",
    "from tensorflow.keras.layers import Dense, Dropout\n",
    "from tensorflow.keras.utils import to_categorical\n",
    "from tensorflow.keras.callbacks import ModelCheckpoint\n",
    "from tensorflow.keras.optimizers import Adam"
   ]
  },
  {
   "cell_type": "code",
   "execution_count": 2,
   "id": "354a8600-6801-4d9e-bda4-bb485a3da6f0",
   "metadata": {},
   "outputs": [],
   "source": [
    "DATA_DIR = 'isl'\n",
    "images_per_class = 1200\n",
    "NUM_FOLDS = 5"
   ]
  },
  {
   "cell_type": "code",
   "execution_count": 3,
   "id": "7ff16073-cd44-4d92-b888-60cae41a2d27",
   "metadata": {},
   "outputs": [],
   "source": [
    "# === Load only valid class folders ===\n",
    "LABELS = sorted([d for d in os.listdir(DATA_DIR) if os.path.isdir(os.path.join(DATA_DIR, d))])\n",
    "LABEL_TO_INDEX = {label: idx for idx, label in enumerate(LABELS)}\n",
    "NUM_CLASSES = len(LABELS)"
   ]
  },
  {
   "cell_type": "code",
   "execution_count": 4,
   "id": "d2910fd2-326d-4bed-9422-85c837f79000",
   "metadata": {},
   "outputs": [],
   "source": [
    "# === MediaPipe Setup ===\n",
    "mp_hands = mp.solutions.hands"
   ]
  },
  {
   "cell_type": "code",
   "execution_count": 5,
   "id": "e077fcad-46fc-4aea-b3c0-8ebb305de976",
   "metadata": {},
   "outputs": [],
   "source": [
    "def extract_landmarks(image_path):\n",
    "    image = cv2.imread(image_path)\n",
    "    if image is None:\n",
    "        return None\n",
    "    image_rgb = cv2.cvtColor(image, cv2.COLOR_BGR2RGB)\n",
    "    with mp_hands.Hands(static_image_mode=True, max_num_hands=2) as hands:\n",
    "        result = hands.process(image_rgb)\n",
    "        hand_landmarks_list = []\n",
    "\n",
    "        if result.multi_hand_landmarks:\n",
    "            for hand_landmarks in result.multi_hand_landmarks:\n",
    "                single_hand = []\n",
    "                for lm in hand_landmarks.landmark:\n",
    "                    single_hand.extend([lm.x, lm.y, lm.z])\n",
    "                hand_landmarks_list.append(single_hand)\n",
    "\n",
    "        # Pad with zeros if only one hand is detected\n",
    "        while len(hand_landmarks_list) < 2:\n",
    "            hand_landmarks_list.append([0.0] * 63)\n",
    "\n",
    "        if len(hand_landmarks_list) == 2:\n",
    "            return hand_landmarks_list[0] + hand_landmarks_list[1]\n",
    "    return None\n"
   ]
  },
  {
   "cell_type": "code",
   "execution_count": 6,
   "id": "ee77a09e-eb23-4901-9e4f-3909ff38d579",
   "metadata": {},
   "outputs": [],
   "source": [
    "def load_dataset():\n",
    "    X, y = [], []\n",
    "    for label in LABELS:\n",
    "        label_dir = os.path.join(DATA_DIR, label)\n",
    "        count = 0\n",
    "        for img_name in os.listdir(label_dir):\n",
    "            img_path = os.path.join(label_dir, img_name)\n",
    "            try:\n",
    "                landmarks = extract_landmarks(img_path)\n",
    "                if landmarks:\n",
    "                    X.append(landmarks)\n",
    "                    y.append(LABEL_TO_INDEX[label])\n",
    "                    count += 1\n",
    "                if count >= images_per_class:\n",
    "                    break\n",
    "            except Exception as e:\n",
    "                print(f\"Error in {img_path}: {e}\")\n",
    "    return np.array(X), np.array(y)\n"
   ]
  },
  {
   "cell_type": "code",
   "execution_count": 7,
   "id": "87b528b1-92ee-43cf-87a3-25347eb77ef7",
   "metadata": {},
   "outputs": [],
   "source": [
    "def build_model(input_shape, num_classes):\n",
    "    model = Sequential([\n",
    "        Dense(256, activation='relu', input_shape=(input_shape,)),\n",
    "        Dropout(0.4),\n",
    "        Dense(128, activation='relu'),\n",
    "        Dropout(0.3),\n",
    "        Dense(64, activation='relu'),\n",
    "        Dropout(0.2),\n",
    "        Dense(num_classes, activation='softmax')\n",
    "    ])\n",
    "    model.compile(optimizer=Adam(learning_rate=0.001), loss='categorical_crossentropy', metrics=['accuracy'])\n",
    "    return model\n"
   ]
  },
  {
   "cell_type": "code",
   "execution_count": 8,
   "id": "419e421c-dadc-4fd1-a6dc-8e6e9f737463",
   "metadata": {},
   "outputs": [
    {
     "name": "stdout",
     "output_type": "stream",
     "text": [
      "📦 Loading dataset...\n"
     ]
    }
   ],
   "source": [
    "# === Load data ===\n",
    "print(\"📦 Loading dataset...\")\n",
    "X, y = load_dataset()"
   ]
  },
  {
   "cell_type": "code",
   "execution_count": 9,
   "id": "e06d650f-2aed-4788-b3fa-4dc93c459182",
   "metadata": {},
   "outputs": [],
   "source": [
    "# === Normalize features ===\n",
    "scaler = StandardScaler()\n",
    "X = scaler.fit_transform(X)"
   ]
  },
  {
   "cell_type": "code",
   "execution_count": 10,
   "id": "7c80d760-dea1-4479-99d3-a91f9489f398",
   "metadata": {},
   "outputs": [],
   "source": [
    "# === Encode labels ===\n",
    "y_cat = to_categorical(y, NUM_CLASSES)"
   ]
  },
  {
   "cell_type": "code",
   "execution_count": 11,
   "id": "ad826722-6763-4a53-8a52-edb9a6354cf2",
   "metadata": {},
   "outputs": [
    {
     "name": "stdout",
     "output_type": "stream",
     "text": [
      "🏁 Starting cross-validation training...\n",
      "\n",
      "🔁 Fold 1\n"
     ]
    },
    {
     "name": "stderr",
     "output_type": "stream",
     "text": [
      "c:\\users\\karan\\appdata\\local\\programs\\python\\python39\\lib\\site-packages\\keras\\src\\layers\\core\\dense.py:87: UserWarning: Do not pass an `input_shape`/`input_dim` argument to a layer. When using Sequential models, prefer using an `Input(shape)` object as the first layer in the model instead.\n",
      "  super().__init__(activity_regularizer=activity_regularizer, **kwargs)\n"
     ]
    },
    {
     "name": "stdout",
     "output_type": "stream",
     "text": [
      "Epoch 1/50\n",
      "\n",
      "Epoch 1: val_accuracy improved from -inf to 0.98333, saving model to model/isl_fold1.h5\n"
     ]
    },
    {
     "name": "stderr",
     "output_type": "stream",
     "text": [
      "WARNING:absl:You are saving your model as an HDF5 file via `model.save()` or `keras.saving.save_model(model)`. This file format is considered legacy. We recommend using instead the native Keras format, e.g. `model.save('my_model.keras')` or `keras.saving.save_model(model, 'my_model.keras')`. \n"
     ]
    },
    {
     "name": "stdout",
     "output_type": "stream",
     "text": [
      "1050/1050 - 10s - 10ms/step - accuracy: 0.8544 - loss: 0.5392 - val_accuracy: 0.9833 - val_loss: 0.0531\n",
      "Epoch 2/50\n",
      "\n",
      "Epoch 2: val_accuracy improved from 0.98333 to 0.98869, saving model to model/isl_fold1.h5\n"
     ]
    },
    {
     "name": "stderr",
     "output_type": "stream",
     "text": [
      "WARNING:absl:You are saving your model as an HDF5 file via `model.save()` or `keras.saving.save_model(model)`. This file format is considered legacy. We recommend using instead the native Keras format, e.g. `model.save('my_model.keras')` or `keras.saving.save_model(model, 'my_model.keras')`. \n"
     ]
    },
    {
     "name": "stdout",
     "output_type": "stream",
     "text": [
      "1050/1050 - 6s - 6ms/step - accuracy: 0.9706 - loss: 0.1000 - val_accuracy: 0.9887 - val_loss: 0.0407\n",
      "Epoch 3/50\n",
      "\n",
      "Epoch 3: val_accuracy did not improve from 0.98869\n",
      "1050/1050 - 6s - 6ms/step - accuracy: 0.9781 - loss: 0.0737 - val_accuracy: 0.9883 - val_loss: 0.0344\n",
      "Epoch 4/50\n",
      "\n",
      "Epoch 4: val_accuracy did not improve from 0.98869\n",
      "1050/1050 - 6s - 6ms/step - accuracy: 0.9811 - loss: 0.0613 - val_accuracy: 0.9887 - val_loss: 0.0342\n",
      "Epoch 5/50\n",
      "\n",
      "Epoch 5: val_accuracy did not improve from 0.98869\n",
      "1050/1050 - 6s - 6ms/step - accuracy: 0.9820 - loss: 0.0606 - val_accuracy: 0.9887 - val_loss: 0.0320\n",
      "Epoch 6/50\n",
      "\n",
      "Epoch 6: val_accuracy improved from 0.98869 to 0.98952, saving model to model/isl_fold1.h5\n"
     ]
    },
    {
     "name": "stderr",
     "output_type": "stream",
     "text": [
      "WARNING:absl:You are saving your model as an HDF5 file via `model.save()` or `keras.saving.save_model(model)`. This file format is considered legacy. We recommend using instead the native Keras format, e.g. `model.save('my_model.keras')` or `keras.saving.save_model(model, 'my_model.keras')`. \n"
     ]
    },
    {
     "name": "stdout",
     "output_type": "stream",
     "text": [
      "1050/1050 - 7s - 6ms/step - accuracy: 0.9836 - loss: 0.0536 - val_accuracy: 0.9895 - val_loss: 0.0314\n",
      "Epoch 7/50\n",
      "\n",
      "Epoch 7: val_accuracy did not improve from 0.98952\n",
      "1050/1050 - 6s - 6ms/step - accuracy: 0.9846 - loss: 0.0531 - val_accuracy: 0.9892 - val_loss: 0.0321\n",
      "Epoch 8/50\n",
      "\n",
      "Epoch 8: val_accuracy did not improve from 0.98952\n",
      "1050/1050 - 7s - 6ms/step - accuracy: 0.9847 - loss: 0.0505 - val_accuracy: 0.9893 - val_loss: 0.0307\n",
      "Epoch 9/50\n",
      "\n",
      "Epoch 9: val_accuracy did not improve from 0.98952\n",
      "1050/1050 - 6s - 6ms/step - accuracy: 0.9859 - loss: 0.0492 - val_accuracy: 0.9892 - val_loss: 0.0332\n",
      "Epoch 10/50\n",
      "\n",
      "Epoch 10: val_accuracy improved from 0.98952 to 0.98964, saving model to model/isl_fold1.h5\n"
     ]
    },
    {
     "name": "stderr",
     "output_type": "stream",
     "text": [
      "WARNING:absl:You are saving your model as an HDF5 file via `model.save()` or `keras.saving.save_model(model)`. This file format is considered legacy. We recommend using instead the native Keras format, e.g. `model.save('my_model.keras')` or `keras.saving.save_model(model, 'my_model.keras')`. \n"
     ]
    },
    {
     "name": "stdout",
     "output_type": "stream",
     "text": [
      "1050/1050 - 6s - 6ms/step - accuracy: 0.9861 - loss: 0.0480 - val_accuracy: 0.9896 - val_loss: 0.0299\n",
      "Epoch 11/50\n",
      "\n",
      "Epoch 11: val_accuracy did not improve from 0.98964\n",
      "1050/1050 - 6s - 6ms/step - accuracy: 0.9858 - loss: 0.0480 - val_accuracy: 0.9896 - val_loss: 0.0303\n",
      "Epoch 12/50\n",
      "\n",
      "Epoch 12: val_accuracy did not improve from 0.98964\n",
      "1050/1050 - 6s - 6ms/step - accuracy: 0.9862 - loss: 0.0480 - val_accuracy: 0.9894 - val_loss: 0.0308\n",
      "Epoch 13/50\n",
      "\n",
      "Epoch 13: val_accuracy improved from 0.98964 to 0.98988, saving model to model/isl_fold1.h5\n"
     ]
    },
    {
     "name": "stderr",
     "output_type": "stream",
     "text": [
      "WARNING:absl:You are saving your model as an HDF5 file via `model.save()` or `keras.saving.save_model(model)`. This file format is considered legacy. We recommend using instead the native Keras format, e.g. `model.save('my_model.keras')` or `keras.saving.save_model(model, 'my_model.keras')`. \n"
     ]
    },
    {
     "name": "stdout",
     "output_type": "stream",
     "text": [
      "1050/1050 - 6s - 6ms/step - accuracy: 0.9863 - loss: 0.0456 - val_accuracy: 0.9899 - val_loss: 0.0312\n",
      "Epoch 14/50\n",
      "\n",
      "Epoch 14: val_accuracy did not improve from 0.98988\n",
      "1050/1050 - 6s - 6ms/step - accuracy: 0.9871 - loss: 0.0457 - val_accuracy: 0.9899 - val_loss: 0.0305\n",
      "Epoch 15/50\n",
      "\n",
      "Epoch 15: val_accuracy did not improve from 0.98988\n",
      "1050/1050 - 6s - 6ms/step - accuracy: 0.9874 - loss: 0.0437 - val_accuracy: 0.9890 - val_loss: 0.0307\n",
      "Epoch 16/50\n",
      "\n",
      "Epoch 16: val_accuracy did not improve from 0.98988\n",
      "1050/1050 - 6s - 6ms/step - accuracy: 0.9868 - loss: 0.0476 - val_accuracy: 0.9899 - val_loss: 0.0301\n",
      "Epoch 17/50\n",
      "\n",
      "Epoch 17: val_accuracy did not improve from 0.98988\n",
      "1050/1050 - 6s - 6ms/step - accuracy: 0.9869 - loss: 0.0437 - val_accuracy: 0.9898 - val_loss: 0.0300\n",
      "Epoch 18/50\n",
      "\n",
      "Epoch 18: val_accuracy did not improve from 0.98988\n",
      "1050/1050 - 6s - 6ms/step - accuracy: 0.9874 - loss: 0.0432 - val_accuracy: 0.9898 - val_loss: 0.0311\n",
      "Epoch 19/50\n",
      "\n",
      "Epoch 19: val_accuracy did not improve from 0.98988\n",
      "1050/1050 - 6s - 6ms/step - accuracy: 0.9876 - loss: 0.0432 - val_accuracy: 0.9899 - val_loss: 0.0310\n",
      "Epoch 20/50\n",
      "\n",
      "Epoch 20: val_accuracy did not improve from 0.98988\n",
      "1050/1050 - 6s - 6ms/step - accuracy: 0.9887 - loss: 0.0397 - val_accuracy: 0.9899 - val_loss: 0.0302\n",
      "Epoch 21/50\n",
      "\n",
      "Epoch 21: val_accuracy did not improve from 0.98988\n",
      "1050/1050 - 6s - 6ms/step - accuracy: 0.9871 - loss: 0.0472 - val_accuracy: 0.9899 - val_loss: 0.0310\n",
      "Epoch 22/50\n",
      "\n",
      "Epoch 22: val_accuracy did not improve from 0.98988\n",
      "1050/1050 - 6s - 6ms/step - accuracy: 0.9878 - loss: 0.0413 - val_accuracy: 0.9898 - val_loss: 0.0306\n",
      "Epoch 23/50\n",
      "\n",
      "Epoch 23: val_accuracy did not improve from 0.98988\n",
      "1050/1050 - 6s - 6ms/step - accuracy: 0.9883 - loss: 0.0411 - val_accuracy: 0.9899 - val_loss: 0.0306\n",
      "Epoch 24/50\n",
      "\n",
      "Epoch 24: val_accuracy did not improve from 0.98988\n",
      "1050/1050 - 6s - 6ms/step - accuracy: 0.9871 - loss: 0.0461 - val_accuracy: 0.9896 - val_loss: 0.0309\n",
      "Epoch 25/50\n",
      "\n",
      "Epoch 25: val_accuracy did not improve from 0.98988\n",
      "1050/1050 - 6s - 6ms/step - accuracy: 0.9878 - loss: 0.0451 - val_accuracy: 0.9899 - val_loss: 0.0304\n",
      "Epoch 26/50\n",
      "\n",
      "Epoch 26: val_accuracy did not improve from 0.98988\n",
      "1050/1050 - 6s - 6ms/step - accuracy: 0.9877 - loss: 0.0439 - val_accuracy: 0.9899 - val_loss: 0.0311\n",
      "Epoch 27/50\n",
      "\n",
      "Epoch 27: val_accuracy improved from 0.98988 to 0.99000, saving model to model/isl_fold1.h5\n"
     ]
    },
    {
     "name": "stderr",
     "output_type": "stream",
     "text": [
      "WARNING:absl:You are saving your model as an HDF5 file via `model.save()` or `keras.saving.save_model(model)`. This file format is considered legacy. We recommend using instead the native Keras format, e.g. `model.save('my_model.keras')` or `keras.saving.save_model(model, 'my_model.keras')`. \n"
     ]
    },
    {
     "name": "stdout",
     "output_type": "stream",
     "text": [
      "1050/1050 - 6s - 6ms/step - accuracy: 0.9885 - loss: 0.0408 - val_accuracy: 0.9900 - val_loss: 0.0293\n",
      "Epoch 28/50\n",
      "\n",
      "Epoch 28: val_accuracy did not improve from 0.99000\n",
      "1050/1050 - 6s - 6ms/step - accuracy: 0.9879 - loss: 0.0439 - val_accuracy: 0.9896 - val_loss: 0.0302\n",
      "Epoch 29/50\n",
      "\n",
      "Epoch 29: val_accuracy did not improve from 0.99000\n",
      "1050/1050 - 6s - 6ms/step - accuracy: 0.9886 - loss: 0.0403 - val_accuracy: 0.9898 - val_loss: 0.0305\n",
      "Epoch 30/50\n",
      "\n",
      "Epoch 30: val_accuracy did not improve from 0.99000\n",
      "1050/1050 - 6s - 6ms/step - accuracy: 0.9889 - loss: 0.0389 - val_accuracy: 0.9899 - val_loss: 0.0307\n",
      "Epoch 31/50\n",
      "\n",
      "Epoch 31: val_accuracy did not improve from 0.99000\n",
      "1050/1050 - 6s - 6ms/step - accuracy: 0.9881 - loss: 0.0452 - val_accuracy: 0.9899 - val_loss: 0.0308\n",
      "Epoch 32/50\n",
      "\n",
      "Epoch 32: val_accuracy did not improve from 0.99000\n",
      "1050/1050 - 6s - 6ms/step - accuracy: 0.9882 - loss: 0.0429 - val_accuracy: 0.9898 - val_loss: 0.0302\n",
      "Epoch 33/50\n",
      "\n",
      "Epoch 33: val_accuracy did not improve from 0.99000\n",
      "1050/1050 - 6s - 6ms/step - accuracy: 0.9884 - loss: 0.0436 - val_accuracy: 0.9895 - val_loss: 0.0308\n",
      "Epoch 34/50\n",
      "\n",
      "Epoch 34: val_accuracy did not improve from 0.99000\n",
      "1050/1050 - 6s - 6ms/step - accuracy: 0.9883 - loss: 0.0425 - val_accuracy: 0.9898 - val_loss: 0.0298\n",
      "Epoch 35/50\n",
      "\n",
      "Epoch 35: val_accuracy did not improve from 0.99000\n",
      "1050/1050 - 10s - 10ms/step - accuracy: 0.9883 - loss: 0.0433 - val_accuracy: 0.9900 - val_loss: 0.0298\n",
      "Epoch 36/50\n",
      "\n",
      "Epoch 36: val_accuracy did not improve from 0.99000\n",
      "1050/1050 - 6s - 6ms/step - accuracy: 0.9895 - loss: 0.0362 - val_accuracy: 0.9899 - val_loss: 0.0301\n",
      "Epoch 37/50\n",
      "\n",
      "Epoch 37: val_accuracy did not improve from 0.99000\n",
      "1050/1050 - 6s - 6ms/step - accuracy: 0.9880 - loss: 0.0467 - val_accuracy: 0.9900 - val_loss: 0.0294\n",
      "Epoch 38/50\n",
      "\n",
      "Epoch 38: val_accuracy did not improve from 0.99000\n",
      "1050/1050 - 6s - 6ms/step - accuracy: 0.9887 - loss: 0.0437 - val_accuracy: 0.9899 - val_loss: 0.0307\n",
      "Epoch 39/50\n",
      "\n",
      "Epoch 39: val_accuracy did not improve from 0.99000\n",
      "1050/1050 - 6s - 6ms/step - accuracy: 0.9891 - loss: 0.0381 - val_accuracy: 0.9900 - val_loss: 0.0300\n",
      "Epoch 40/50\n",
      "\n",
      "Epoch 40: val_accuracy did not improve from 0.99000\n",
      "1050/1050 - 6s - 6ms/step - accuracy: 0.9879 - loss: 0.0472 - val_accuracy: 0.9900 - val_loss: 0.0296\n",
      "Epoch 41/50\n",
      "\n",
      "Epoch 41: val_accuracy did not improve from 0.99000\n",
      "1050/1050 - 6s - 6ms/step - accuracy: 0.9889 - loss: 0.0402 - val_accuracy: 0.9899 - val_loss: 0.0301\n",
      "Epoch 42/50\n",
      "\n",
      "Epoch 42: val_accuracy did not improve from 0.99000\n",
      "1050/1050 - 6s - 6ms/step - accuracy: 0.9887 - loss: 0.0408 - val_accuracy: 0.9899 - val_loss: 0.0302\n",
      "Epoch 43/50\n",
      "\n",
      "Epoch 43: val_accuracy did not improve from 0.99000\n",
      "1050/1050 - 6s - 6ms/step - accuracy: 0.9881 - loss: 0.0479 - val_accuracy: 0.9900 - val_loss: 0.0293\n",
      "Epoch 44/50\n",
      "\n",
      "Epoch 44: val_accuracy did not improve from 0.99000\n",
      "1050/1050 - 6s - 6ms/step - accuracy: 0.9893 - loss: 0.0397 - val_accuracy: 0.9898 - val_loss: 0.0298\n",
      "Epoch 45/50\n",
      "\n",
      "Epoch 45: val_accuracy did not improve from 0.99000\n",
      "1050/1050 - 6s - 6ms/step - accuracy: 0.9892 - loss: 0.0396 - val_accuracy: 0.9900 - val_loss: 0.0294\n",
      "Epoch 46/50\n",
      "\n",
      "Epoch 46: val_accuracy did not improve from 0.99000\n",
      "1050/1050 - 6s - 6ms/step - accuracy: 0.9887 - loss: 0.0485 - val_accuracy: 0.9899 - val_loss: 0.0310\n",
      "Epoch 47/50\n",
      "\n",
      "Epoch 47: val_accuracy did not improve from 0.99000\n",
      "1050/1050 - 6s - 6ms/step - accuracy: 0.9890 - loss: 0.0401 - val_accuracy: 0.9899 - val_loss: 0.0302\n",
      "Epoch 48/50\n",
      "\n",
      "Epoch 48: val_accuracy did not improve from 0.99000\n",
      "1050/1050 - 6s - 6ms/step - accuracy: 0.9889 - loss: 0.0425 - val_accuracy: 0.9899 - val_loss: 0.0303\n",
      "Epoch 49/50\n",
      "\n",
      "Epoch 49: val_accuracy did not improve from 0.99000\n",
      "1050/1050 - 6s - 6ms/step - accuracy: 0.9896 - loss: 0.0405 - val_accuracy: 0.9900 - val_loss: 0.0295\n",
      "Epoch 50/50\n",
      "\n",
      "Epoch 50: val_accuracy did not improve from 0.99000\n",
      "1050/1050 - 6s - 6ms/step - accuracy: 0.9893 - loss: 0.0416 - val_accuracy: 0.9898 - val_loss: 0.0304\n",
      "\n",
      "🔁 Fold 2\n"
     ]
    },
    {
     "name": "stderr",
     "output_type": "stream",
     "text": [
      "c:\\users\\karan\\appdata\\local\\programs\\python\\python39\\lib\\site-packages\\keras\\src\\layers\\core\\dense.py:87: UserWarning: Do not pass an `input_shape`/`input_dim` argument to a layer. When using Sequential models, prefer using an `Input(shape)` object as the first layer in the model instead.\n",
      "  super().__init__(activity_regularizer=activity_regularizer, **kwargs)\n"
     ]
    },
    {
     "name": "stdout",
     "output_type": "stream",
     "text": [
      "Epoch 1/50\n",
      "\n",
      "Epoch 1: val_accuracy improved from -inf to 0.98286, saving model to model/isl_fold2.h5\n"
     ]
    },
    {
     "name": "stderr",
     "output_type": "stream",
     "text": [
      "WARNING:absl:You are saving your model as an HDF5 file via `model.save()` or `keras.saving.save_model(model)`. This file format is considered legacy. We recommend using instead the native Keras format, e.g. `model.save('my_model.keras')` or `keras.saving.save_model(model, 'my_model.keras')`. \n"
     ]
    },
    {
     "name": "stdout",
     "output_type": "stream",
     "text": [
      "1050/1050 - 9s - 9ms/step - accuracy: 0.8541 - loss: 0.5381 - val_accuracy: 0.9829 - val_loss: 0.0570\n",
      "Epoch 2/50\n",
      "\n",
      "Epoch 2: val_accuracy improved from 0.98286 to 0.98679, saving model to model/isl_fold2.h5\n"
     ]
    },
    {
     "name": "stderr",
     "output_type": "stream",
     "text": [
      "WARNING:absl:You are saving your model as an HDF5 file via `model.save()` or `keras.saving.save_model(model)`. This file format is considered legacy. We recommend using instead the native Keras format, e.g. `model.save('my_model.keras')` or `keras.saving.save_model(model, 'my_model.keras')`. \n"
     ]
    },
    {
     "name": "stdout",
     "output_type": "stream",
     "text": [
      "1050/1050 - 6s - 6ms/step - accuracy: 0.9704 - loss: 0.1019 - val_accuracy: 0.9868 - val_loss: 0.0451\n",
      "Epoch 3/50\n",
      "\n",
      "Epoch 3: val_accuracy improved from 0.98679 to 0.98881, saving model to model/isl_fold2.h5\n"
     ]
    },
    {
     "name": "stderr",
     "output_type": "stream",
     "text": [
      "WARNING:absl:You are saving your model as an HDF5 file via `model.save()` or `keras.saving.save_model(model)`. This file format is considered legacy. We recommend using instead the native Keras format, e.g. `model.save('my_model.keras')` or `keras.saving.save_model(model, 'my_model.keras')`. \n"
     ]
    },
    {
     "name": "stdout",
     "output_type": "stream",
     "text": [
      "1050/1050 - 6s - 6ms/step - accuracy: 0.9793 - loss: 0.0689 - val_accuracy: 0.9888 - val_loss: 0.0375\n",
      "Epoch 4/50\n",
      "\n",
      "Epoch 4: val_accuracy improved from 0.98881 to 0.98917, saving model to model/isl_fold2.h5\n"
     ]
    },
    {
     "name": "stderr",
     "output_type": "stream",
     "text": [
      "WARNING:absl:You are saving your model as an HDF5 file via `model.save()` or `keras.saving.save_model(model)`. This file format is considered legacy. We recommend using instead the native Keras format, e.g. `model.save('my_model.keras')` or `keras.saving.save_model(model, 'my_model.keras')`. \n"
     ]
    },
    {
     "name": "stdout",
     "output_type": "stream",
     "text": [
      "1050/1050 - 6s - 6ms/step - accuracy: 0.9790 - loss: 0.0677 - val_accuracy: 0.9892 - val_loss: 0.0434\n",
      "Epoch 5/50\n",
      "\n",
      "Epoch 5: val_accuracy improved from 0.98917 to 0.98952, saving model to model/isl_fold2.h5\n"
     ]
    },
    {
     "name": "stderr",
     "output_type": "stream",
     "text": [
      "WARNING:absl:You are saving your model as an HDF5 file via `model.save()` or `keras.saving.save_model(model)`. This file format is considered legacy. We recommend using instead the native Keras format, e.g. `model.save('my_model.keras')` or `keras.saving.save_model(model, 'my_model.keras')`. \n"
     ]
    },
    {
     "name": "stdout",
     "output_type": "stream",
     "text": [
      "1050/1050 - 6s - 6ms/step - accuracy: 0.9821 - loss: 0.0589 - val_accuracy: 0.9895 - val_loss: 0.0347\n",
      "Epoch 6/50\n",
      "\n",
      "Epoch 6: val_accuracy did not improve from 0.98952\n",
      "1050/1050 - 6s - 6ms/step - accuracy: 0.9837 - loss: 0.0542 - val_accuracy: 0.9895 - val_loss: 0.0380\n",
      "Epoch 7/50\n",
      "\n",
      "Epoch 7: val_accuracy improved from 0.98952 to 0.98976, saving model to model/isl_fold2.h5\n"
     ]
    },
    {
     "name": "stderr",
     "output_type": "stream",
     "text": [
      "WARNING:absl:You are saving your model as an HDF5 file via `model.save()` or `keras.saving.save_model(model)`. This file format is considered legacy. We recommend using instead the native Keras format, e.g. `model.save('my_model.keras')` or `keras.saving.save_model(model, 'my_model.keras')`. \n"
     ]
    },
    {
     "name": "stdout",
     "output_type": "stream",
     "text": [
      "1050/1050 - 6s - 6ms/step - accuracy: 0.9842 - loss: 0.0527 - val_accuracy: 0.9898 - val_loss: 0.0342\n",
      "Epoch 8/50\n",
      "\n",
      "Epoch 8: val_accuracy did not improve from 0.98976\n",
      "1050/1050 - 6s - 6ms/step - accuracy: 0.9847 - loss: 0.0512 - val_accuracy: 0.9896 - val_loss: 0.0323\n",
      "Epoch 9/50\n",
      "\n",
      "Epoch 9: val_accuracy improved from 0.98976 to 0.98988, saving model to model/isl_fold2.h5\n"
     ]
    },
    {
     "name": "stderr",
     "output_type": "stream",
     "text": [
      "WARNING:absl:You are saving your model as an HDF5 file via `model.save()` or `keras.saving.save_model(model)`. This file format is considered legacy. We recommend using instead the native Keras format, e.g. `model.save('my_model.keras')` or `keras.saving.save_model(model, 'my_model.keras')`. \n"
     ]
    },
    {
     "name": "stdout",
     "output_type": "stream",
     "text": [
      "1050/1050 - 6s - 6ms/step - accuracy: 0.9847 - loss: 0.0511 - val_accuracy: 0.9899 - val_loss: 0.0339\n",
      "Epoch 10/50\n",
      "\n",
      "Epoch 10: val_accuracy did not improve from 0.98988\n",
      "1050/1050 - 6s - 6ms/step - accuracy: 0.9860 - loss: 0.0501 - val_accuracy: 0.9893 - val_loss: 0.0369\n",
      "Epoch 11/50\n",
      "\n",
      "Epoch 11: val_accuracy did not improve from 0.98988\n",
      "1050/1050 - 6s - 6ms/step - accuracy: 0.9863 - loss: 0.0466 - val_accuracy: 0.9899 - val_loss: 0.0339\n",
      "Epoch 12/50\n",
      "\n",
      "Epoch 12: val_accuracy improved from 0.98988 to 0.99012, saving model to model/isl_fold2.h5\n"
     ]
    },
    {
     "name": "stderr",
     "output_type": "stream",
     "text": [
      "WARNING:absl:You are saving your model as an HDF5 file via `model.save()` or `keras.saving.save_model(model)`. This file format is considered legacy. We recommend using instead the native Keras format, e.g. `model.save('my_model.keras')` or `keras.saving.save_model(model, 'my_model.keras')`. \n"
     ]
    },
    {
     "name": "stdout",
     "output_type": "stream",
     "text": [
      "1050/1050 - 6s - 6ms/step - accuracy: 0.9863 - loss: 0.0452 - val_accuracy: 0.9901 - val_loss: 0.0329\n",
      "Epoch 13/50\n",
      "\n",
      "Epoch 13: val_accuracy did not improve from 0.99012\n",
      "1050/1050 - 6s - 6ms/step - accuracy: 0.9873 - loss: 0.0434 - val_accuracy: 0.9894 - val_loss: 0.0323\n",
      "Epoch 14/50\n",
      "\n",
      "Epoch 14: val_accuracy did not improve from 0.99012\n",
      "1050/1050 - 6s - 5ms/step - accuracy: 0.9850 - loss: 0.0537 - val_accuracy: 0.9898 - val_loss: 0.0331\n",
      "Epoch 15/50\n",
      "\n",
      "Epoch 15: val_accuracy did not improve from 0.99012\n",
      "1050/1050 - 6s - 6ms/step - accuracy: 0.9869 - loss: 0.0445 - val_accuracy: 0.9895 - val_loss: 0.0352\n",
      "Epoch 16/50\n",
      "\n",
      "Epoch 16: val_accuracy did not improve from 0.99012\n",
      "1050/1050 - 6s - 6ms/step - accuracy: 0.9869 - loss: 0.0455 - val_accuracy: 0.9900 - val_loss: 0.0356\n",
      "Epoch 17/50\n",
      "\n",
      "Epoch 17: val_accuracy did not improve from 0.99012\n",
      "1050/1050 - 6s - 6ms/step - accuracy: 0.9877 - loss: 0.0442 - val_accuracy: 0.9898 - val_loss: 0.0376\n",
      "Epoch 18/50\n",
      "\n",
      "Epoch 18: val_accuracy did not improve from 0.99012\n",
      "1050/1050 - 6s - 6ms/step - accuracy: 0.9874 - loss: 0.0448 - val_accuracy: 0.9900 - val_loss: 0.0340\n",
      "Epoch 19/50\n",
      "\n",
      "Epoch 19: val_accuracy did not improve from 0.99012\n",
      "1050/1050 - 6s - 6ms/step - accuracy: 0.9866 - loss: 0.0458 - val_accuracy: 0.9896 - val_loss: 0.0364\n",
      "Epoch 20/50\n",
      "\n",
      "Epoch 20: val_accuracy improved from 0.99012 to 0.99024, saving model to model/isl_fold2.h5\n"
     ]
    },
    {
     "name": "stderr",
     "output_type": "stream",
     "text": [
      "WARNING:absl:You are saving your model as an HDF5 file via `model.save()` or `keras.saving.save_model(model)`. This file format is considered legacy. We recommend using instead the native Keras format, e.g. `model.save('my_model.keras')` or `keras.saving.save_model(model, 'my_model.keras')`. \n"
     ]
    },
    {
     "name": "stdout",
     "output_type": "stream",
     "text": [
      "1050/1050 - 6s - 6ms/step - accuracy: 0.9873 - loss: 0.0437 - val_accuracy: 0.9902 - val_loss: 0.0340\n",
      "Epoch 21/50\n",
      "\n",
      "Epoch 21: val_accuracy did not improve from 0.99024\n",
      "1050/1050 - 6s - 6ms/step - accuracy: 0.9876 - loss: 0.0445 - val_accuracy: 0.9900 - val_loss: 0.0355\n",
      "Epoch 22/50\n",
      "\n",
      "Epoch 22: val_accuracy did not improve from 0.99024\n",
      "1050/1050 - 6s - 6ms/step - accuracy: 0.9867 - loss: 0.0492 - val_accuracy: 0.9890 - val_loss: 0.0374\n",
      "Epoch 23/50\n",
      "\n",
      "Epoch 23: val_accuracy did not improve from 0.99024\n",
      "1050/1050 - 6s - 6ms/step - accuracy: 0.9885 - loss: 0.0398 - val_accuracy: 0.9898 - val_loss: 0.0385\n",
      "Epoch 24/50\n",
      "\n",
      "Epoch 24: val_accuracy did not improve from 0.99024\n",
      "1050/1050 - 6s - 6ms/step - accuracy: 0.9872 - loss: 0.0444 - val_accuracy: 0.9901 - val_loss: 0.0358\n",
      "Epoch 25/50\n",
      "\n",
      "Epoch 25: val_accuracy did not improve from 0.99024\n",
      "1050/1050 - 6s - 6ms/step - accuracy: 0.9881 - loss: 0.0418 - val_accuracy: 0.9899 - val_loss: 0.0357\n",
      "Epoch 26/50\n",
      "\n",
      "Epoch 26: val_accuracy did not improve from 0.99024\n",
      "1050/1050 - 6s - 6ms/step - accuracy: 0.9883 - loss: 0.0432 - val_accuracy: 0.9901 - val_loss: 0.0330\n",
      "Epoch 27/50\n",
      "\n",
      "Epoch 27: val_accuracy did not improve from 0.99024\n",
      "1050/1050 - 6s - 6ms/step - accuracy: 0.9875 - loss: 0.0443 - val_accuracy: 0.9901 - val_loss: 0.0332\n",
      "Epoch 28/50\n",
      "\n",
      "Epoch 28: val_accuracy did not improve from 0.99024\n",
      "1050/1050 - 10s - 10ms/step - accuracy: 0.9876 - loss: 0.0453 - val_accuracy: 0.9901 - val_loss: 0.0340\n",
      "Epoch 29/50\n",
      "\n",
      "Epoch 29: val_accuracy did not improve from 0.99024\n",
      "1050/1050 - 6s - 6ms/step - accuracy: 0.9885 - loss: 0.0428 - val_accuracy: 0.9901 - val_loss: 0.0343\n",
      "Epoch 30/50\n",
      "\n",
      "Epoch 30: val_accuracy did not improve from 0.99024\n",
      "1050/1050 - 6s - 6ms/step - accuracy: 0.9891 - loss: 0.0391 - val_accuracy: 0.9899 - val_loss: 0.0353\n",
      "Epoch 31/50\n",
      "\n",
      "Epoch 31: val_accuracy did not improve from 0.99024\n",
      "1050/1050 - 6s - 6ms/step - accuracy: 0.9882 - loss: 0.0429 - val_accuracy: 0.9898 - val_loss: 0.0343\n",
      "Epoch 32/50\n",
      "\n",
      "Epoch 32: val_accuracy did not improve from 0.99024\n",
      "1050/1050 - 6s - 6ms/step - accuracy: 0.9882 - loss: 0.0412 - val_accuracy: 0.9901 - val_loss: 0.0349\n",
      "Epoch 33/50\n",
      "\n",
      "Epoch 33: val_accuracy did not improve from 0.99024\n",
      "1050/1050 - 6s - 6ms/step - accuracy: 0.9880 - loss: 0.0445 - val_accuracy: 0.9896 - val_loss: 0.0347\n",
      "Epoch 34/50\n",
      "\n",
      "Epoch 34: val_accuracy did not improve from 0.99024\n",
      "1050/1050 - 6s - 6ms/step - accuracy: 0.9882 - loss: 0.0425 - val_accuracy: 0.9900 - val_loss: 0.0325\n",
      "Epoch 35/50\n",
      "\n",
      "Epoch 35: val_accuracy did not improve from 0.99024\n",
      "1050/1050 - 6s - 6ms/step - accuracy: 0.9886 - loss: 0.0402 - val_accuracy: 0.9901 - val_loss: 0.0390\n",
      "Epoch 36/50\n",
      "\n",
      "Epoch 36: val_accuracy did not improve from 0.99024\n",
      "1050/1050 - 6s - 6ms/step - accuracy: 0.9884 - loss: 0.0418 - val_accuracy: 0.9900 - val_loss: 0.0326\n",
      "Epoch 37/50\n",
      "\n",
      "Epoch 37: val_accuracy did not improve from 0.99024\n",
      "1050/1050 - 6s - 6ms/step - accuracy: 0.9885 - loss: 0.0418 - val_accuracy: 0.9900 - val_loss: 0.0367\n",
      "Epoch 38/50\n",
      "\n",
      "Epoch 38: val_accuracy did not improve from 0.99024\n",
      "1050/1050 - 6s - 6ms/step - accuracy: 0.9882 - loss: 0.0447 - val_accuracy: 0.9901 - val_loss: 0.0342\n",
      "Epoch 39/50\n",
      "\n",
      "Epoch 39: val_accuracy did not improve from 0.99024\n",
      "1050/1050 - 6s - 6ms/step - accuracy: 0.9883 - loss: 0.0424 - val_accuracy: 0.9900 - val_loss: 0.0352\n",
      "Epoch 40/50\n",
      "\n",
      "Epoch 40: val_accuracy did not improve from 0.99024\n",
      "1050/1050 - 6s - 6ms/step - accuracy: 0.9886 - loss: 0.0394 - val_accuracy: 0.9902 - val_loss: 0.0339\n",
      "Epoch 41/50\n",
      "\n",
      "Epoch 41: val_accuracy did not improve from 0.99024\n",
      "1050/1050 - 6s - 6ms/step - accuracy: 0.9884 - loss: 0.0484 - val_accuracy: 0.9901 - val_loss: 0.0343\n",
      "Epoch 42/50\n",
      "\n",
      "Epoch 42: val_accuracy did not improve from 0.99024\n",
      "1050/1050 - 6s - 6ms/step - accuracy: 0.9886 - loss: 0.0428 - val_accuracy: 0.9901 - val_loss: 0.0381\n",
      "Epoch 43/50\n",
      "\n",
      "Epoch 43: val_accuracy did not improve from 0.99024\n",
      "1050/1050 - 6s - 6ms/step - accuracy: 0.9889 - loss: 0.0384 - val_accuracy: 0.9902 - val_loss: 0.0359\n",
      "Epoch 44/50\n",
      "\n",
      "Epoch 44: val_accuracy did not improve from 0.99024\n",
      "1050/1050 - 6s - 6ms/step - accuracy: 0.9886 - loss: 0.0430 - val_accuracy: 0.9902 - val_loss: 0.0355\n",
      "Epoch 45/50\n",
      "\n",
      "Epoch 45: val_accuracy did not improve from 0.99024\n",
      "1050/1050 - 6s - 6ms/step - accuracy: 0.9885 - loss: 0.0442 - val_accuracy: 0.9898 - val_loss: 0.0371\n",
      "Epoch 46/50\n",
      "\n",
      "Epoch 46: val_accuracy did not improve from 0.99024\n",
      "1050/1050 - 6s - 6ms/step - accuracy: 0.9887 - loss: 0.0430 - val_accuracy: 0.9898 - val_loss: 0.0418\n",
      "Epoch 47/50\n",
      "\n",
      "Epoch 47: val_accuracy did not improve from 0.99024\n",
      "1050/1050 - 6s - 6ms/step - accuracy: 0.9888 - loss: 0.0425 - val_accuracy: 0.9901 - val_loss: 0.0338\n",
      "Epoch 48/50\n",
      "\n",
      "Epoch 48: val_accuracy did not improve from 0.99024\n",
      "1050/1050 - 6s - 6ms/step - accuracy: 0.9895 - loss: 0.0386 - val_accuracy: 0.9899 - val_loss: 0.0358\n",
      "Epoch 49/50\n",
      "\n",
      "Epoch 49: val_accuracy did not improve from 0.99024\n",
      "1050/1050 - 6s - 6ms/step - accuracy: 0.9885 - loss: 0.0425 - val_accuracy: 0.9901 - val_loss: 0.0353\n",
      "Epoch 50/50\n",
      "\n",
      "Epoch 50: val_accuracy did not improve from 0.99024\n",
      "1050/1050 - 6s - 6ms/step - accuracy: 0.9884 - loss: 0.0459 - val_accuracy: 0.9895 - val_loss: 0.0370\n",
      "\n",
      "🔁 Fold 3\n"
     ]
    },
    {
     "name": "stderr",
     "output_type": "stream",
     "text": [
      "c:\\users\\karan\\appdata\\local\\programs\\python\\python39\\lib\\site-packages\\keras\\src\\layers\\core\\dense.py:87: UserWarning: Do not pass an `input_shape`/`input_dim` argument to a layer. When using Sequential models, prefer using an `Input(shape)` object as the first layer in the model instead.\n",
      "  super().__init__(activity_regularizer=activity_regularizer, **kwargs)\n"
     ]
    },
    {
     "name": "stdout",
     "output_type": "stream",
     "text": [
      "Epoch 1/50\n",
      "\n",
      "Epoch 1: val_accuracy improved from -inf to 0.98821, saving model to model/isl_fold3.h5\n"
     ]
    },
    {
     "name": "stderr",
     "output_type": "stream",
     "text": [
      "WARNING:absl:You are saving your model as an HDF5 file via `model.save()` or `keras.saving.save_model(model)`. This file format is considered legacy. We recommend using instead the native Keras format, e.g. `model.save('my_model.keras')` or `keras.saving.save_model(model, 'my_model.keras')`. \n"
     ]
    },
    {
     "name": "stdout",
     "output_type": "stream",
     "text": [
      "1050/1050 - 9s - 9ms/step - accuracy: 0.8545 - loss: 0.5258 - val_accuracy: 0.9882 - val_loss: 0.0483\n",
      "Epoch 2/50\n",
      "\n",
      "Epoch 2: val_accuracy improved from 0.98821 to 0.98893, saving model to model/isl_fold3.h5\n"
     ]
    },
    {
     "name": "stderr",
     "output_type": "stream",
     "text": [
      "WARNING:absl:You are saving your model as an HDF5 file via `model.save()` or `keras.saving.save_model(model)`. This file format is considered legacy. We recommend using instead the native Keras format, e.g. `model.save('my_model.keras')` or `keras.saving.save_model(model, 'my_model.keras')`. \n"
     ]
    },
    {
     "name": "stdout",
     "output_type": "stream",
     "text": [
      "1050/1050 - 6s - 6ms/step - accuracy: 0.9686 - loss: 0.1029 - val_accuracy: 0.9889 - val_loss: 0.0416\n",
      "Epoch 3/50\n",
      "\n",
      "Epoch 3: val_accuracy improved from 0.98893 to 0.98929, saving model to model/isl_fold3.h5\n"
     ]
    },
    {
     "name": "stderr",
     "output_type": "stream",
     "text": [
      "WARNING:absl:You are saving your model as an HDF5 file via `model.save()` or `keras.saving.save_model(model)`. This file format is considered legacy. We recommend using instead the native Keras format, e.g. `model.save('my_model.keras')` or `keras.saving.save_model(model, 'my_model.keras')`. \n"
     ]
    },
    {
     "name": "stdout",
     "output_type": "stream",
     "text": [
      "1050/1050 - 6s - 6ms/step - accuracy: 0.9777 - loss: 0.0743 - val_accuracy: 0.9893 - val_loss: 0.0383\n",
      "Epoch 4/50\n",
      "\n",
      "Epoch 4: val_accuracy improved from 0.98929 to 0.99095, saving model to model/isl_fold3.h5\n"
     ]
    },
    {
     "name": "stderr",
     "output_type": "stream",
     "text": [
      "WARNING:absl:You are saving your model as an HDF5 file via `model.save()` or `keras.saving.save_model(model)`. This file format is considered legacy. We recommend using instead the native Keras format, e.g. `model.save('my_model.keras')` or `keras.saving.save_model(model, 'my_model.keras')`. \n"
     ]
    },
    {
     "name": "stdout",
     "output_type": "stream",
     "text": [
      "1050/1050 - 6s - 6ms/step - accuracy: 0.9796 - loss: 0.0669 - val_accuracy: 0.9910 - val_loss: 0.0308\n",
      "Epoch 5/50\n",
      "\n",
      "Epoch 5: val_accuracy did not improve from 0.99095\n",
      "1050/1050 - 6s - 6ms/step - accuracy: 0.9809 - loss: 0.0643 - val_accuracy: 0.9910 - val_loss: 0.0316\n",
      "Epoch 6/50\n",
      "\n",
      "Epoch 6: val_accuracy improved from 0.99095 to 0.99143, saving model to model/isl_fold3.h5\n"
     ]
    },
    {
     "name": "stderr",
     "output_type": "stream",
     "text": [
      "WARNING:absl:You are saving your model as an HDF5 file via `model.save()` or `keras.saving.save_model(model)`. This file format is considered legacy. We recommend using instead the native Keras format, e.g. `model.save('my_model.keras')` or `keras.saving.save_model(model, 'my_model.keras')`. \n"
     ]
    },
    {
     "name": "stdout",
     "output_type": "stream",
     "text": [
      "1050/1050 - 6s - 6ms/step - accuracy: 0.9824 - loss: 0.0578 - val_accuracy: 0.9914 - val_loss: 0.0310\n",
      "Epoch 7/50\n",
      "\n",
      "Epoch 7: val_accuracy did not improve from 0.99143\n",
      "1050/1050 - 6s - 6ms/step - accuracy: 0.9841 - loss: 0.0524 - val_accuracy: 0.9899 - val_loss: 0.0323\n",
      "Epoch 8/50\n",
      "\n",
      "Epoch 8: val_accuracy did not improve from 0.99143\n",
      "1050/1050 - 6s - 6ms/step - accuracy: 0.9841 - loss: 0.0496 - val_accuracy: 0.9913 - val_loss: 0.0302\n",
      "Epoch 9/50\n",
      "\n",
      "Epoch 9: val_accuracy did not improve from 0.99143\n",
      "1050/1050 - 10s - 10ms/step - accuracy: 0.9849 - loss: 0.0501 - val_accuracy: 0.9904 - val_loss: 0.0339\n",
      "Epoch 10/50\n",
      "\n",
      "Epoch 10: val_accuracy did not improve from 0.99143\n",
      "1050/1050 - 6s - 6ms/step - accuracy: 0.9860 - loss: 0.0479 - val_accuracy: 0.9914 - val_loss: 0.0290\n",
      "Epoch 11/50\n",
      "\n",
      "Epoch 11: val_accuracy did not improve from 0.99143\n",
      "1050/1050 - 6s - 6ms/step - accuracy: 0.9858 - loss: 0.0461 - val_accuracy: 0.9908 - val_loss: 0.0302\n",
      "Epoch 12/50\n",
      "\n",
      "Epoch 12: val_accuracy did not improve from 0.99143\n",
      "1050/1050 - 6s - 6ms/step - accuracy: 0.9851 - loss: 0.0496 - val_accuracy: 0.9911 - val_loss: 0.0305\n",
      "Epoch 13/50\n",
      "\n",
      "Epoch 13: val_accuracy did not improve from 0.99143\n",
      "1050/1050 - 7s - 6ms/step - accuracy: 0.9858 - loss: 0.0473 - val_accuracy: 0.9912 - val_loss: 0.0286\n",
      "Epoch 14/50\n",
      "\n",
      "Epoch 14: val_accuracy did not improve from 0.99143\n",
      "1050/1050 - 6s - 6ms/step - accuracy: 0.9878 - loss: 0.0427 - val_accuracy: 0.9902 - val_loss: 0.0320\n",
      "Epoch 15/50\n",
      "\n",
      "Epoch 15: val_accuracy did not improve from 0.99143\n",
      "1050/1050 - 7s - 7ms/step - accuracy: 0.9860 - loss: 0.0466 - val_accuracy: 0.9914 - val_loss: 0.0298\n",
      "Epoch 16/50\n",
      "\n",
      "Epoch 16: val_accuracy did not improve from 0.99143\n",
      "1050/1050 - 6s - 6ms/step - accuracy: 0.9862 - loss: 0.0465 - val_accuracy: 0.9912 - val_loss: 0.0310\n",
      "Epoch 17/50\n",
      "\n",
      "Epoch 17: val_accuracy did not improve from 0.99143\n",
      "1050/1050 - 6s - 6ms/step - accuracy: 0.9853 - loss: 0.0507 - val_accuracy: 0.9914 - val_loss: 0.0287\n",
      "Epoch 18/50\n",
      "\n",
      "Epoch 18: val_accuracy improved from 0.99143 to 0.99167, saving model to model/isl_fold3.h5\n"
     ]
    },
    {
     "name": "stderr",
     "output_type": "stream",
     "text": [
      "WARNING:absl:You are saving your model as an HDF5 file via `model.save()` or `keras.saving.save_model(model)`. This file format is considered legacy. We recommend using instead the native Keras format, e.g. `model.save('my_model.keras')` or `keras.saving.save_model(model, 'my_model.keras')`. \n"
     ]
    },
    {
     "name": "stdout",
     "output_type": "stream",
     "text": [
      "1050/1050 - 6s - 6ms/step - accuracy: 0.9871 - loss: 0.0428 - val_accuracy: 0.9917 - val_loss: 0.0277\n",
      "Epoch 19/50\n",
      "\n",
      "Epoch 19: val_accuracy did not improve from 0.99167\n",
      "1050/1050 - 6s - 6ms/step - accuracy: 0.9870 - loss: 0.0442 - val_accuracy: 0.9914 - val_loss: 0.0307\n",
      "Epoch 20/50\n",
      "\n",
      "Epoch 20: val_accuracy did not improve from 0.99167\n",
      "1050/1050 - 6s - 6ms/step - accuracy: 0.9877 - loss: 0.0406 - val_accuracy: 0.9915 - val_loss: 0.0320\n",
      "Epoch 21/50\n",
      "\n",
      "Epoch 21: val_accuracy did not improve from 0.99167\n",
      "1050/1050 - 6s - 6ms/step - accuracy: 0.9870 - loss: 0.0462 - val_accuracy: 0.9915 - val_loss: 0.0291\n",
      "Epoch 22/50\n",
      "\n",
      "Epoch 22: val_accuracy improved from 0.99167 to 0.99179, saving model to model/isl_fold3.h5\n"
     ]
    },
    {
     "name": "stderr",
     "output_type": "stream",
     "text": [
      "WARNING:absl:You are saving your model as an HDF5 file via `model.save()` or `keras.saving.save_model(model)`. This file format is considered legacy. We recommend using instead the native Keras format, e.g. `model.save('my_model.keras')` or `keras.saving.save_model(model, 'my_model.keras')`. \n"
     ]
    },
    {
     "name": "stdout",
     "output_type": "stream",
     "text": [
      "1050/1050 - 6s - 6ms/step - accuracy: 0.9882 - loss: 0.0417 - val_accuracy: 0.9918 - val_loss: 0.0293\n",
      "Epoch 23/50\n",
      "\n",
      "Epoch 23: val_accuracy did not improve from 0.99179\n",
      "1050/1050 - 6s - 6ms/step - accuracy: 0.9879 - loss: 0.0409 - val_accuracy: 0.9918 - val_loss: 0.0286\n",
      "Epoch 24/50\n",
      "\n",
      "Epoch 24: val_accuracy did not improve from 0.99179\n",
      "1050/1050 - 6s - 6ms/step - accuracy: 0.9870 - loss: 0.0439 - val_accuracy: 0.9917 - val_loss: 0.0279\n",
      "Epoch 25/50\n",
      "\n",
      "Epoch 25: val_accuracy did not improve from 0.99179\n",
      "1050/1050 - 6s - 6ms/step - accuracy: 0.9869 - loss: 0.0465 - val_accuracy: 0.9918 - val_loss: 0.0291\n",
      "Epoch 26/50\n",
      "\n",
      "Epoch 26: val_accuracy did not improve from 0.99179\n",
      "1050/1050 - 6s - 6ms/step - accuracy: 0.9868 - loss: 0.0457 - val_accuracy: 0.9915 - val_loss: 0.0285\n",
      "Epoch 27/50\n",
      "\n",
      "Epoch 27: val_accuracy did not improve from 0.99179\n",
      "1050/1050 - 6s - 6ms/step - accuracy: 0.9882 - loss: 0.0418 - val_accuracy: 0.9915 - val_loss: 0.0273\n",
      "Epoch 28/50\n",
      "\n",
      "Epoch 28: val_accuracy did not improve from 0.99179\n",
      "1050/1050 - 7s - 7ms/step - accuracy: 0.9875 - loss: 0.0434 - val_accuracy: 0.9915 - val_loss: 0.0276\n",
      "Epoch 29/50\n",
      "\n",
      "Epoch 29: val_accuracy did not improve from 0.99179\n",
      "1050/1050 - 7s - 6ms/step - accuracy: 0.9879 - loss: 0.0413 - val_accuracy: 0.9917 - val_loss: 0.0295\n",
      "Epoch 30/50\n",
      "\n",
      "Epoch 30: val_accuracy improved from 0.99179 to 0.99190, saving model to model/isl_fold3.h5\n"
     ]
    },
    {
     "name": "stderr",
     "output_type": "stream",
     "text": [
      "WARNING:absl:You are saving your model as an HDF5 file via `model.save()` or `keras.saving.save_model(model)`. This file format is considered legacy. We recommend using instead the native Keras format, e.g. `model.save('my_model.keras')` or `keras.saving.save_model(model, 'my_model.keras')`. \n"
     ]
    },
    {
     "name": "stdout",
     "output_type": "stream",
     "text": [
      "1050/1050 - 7s - 7ms/step - accuracy: 0.9878 - loss: 0.0444 - val_accuracy: 0.9919 - val_loss: 0.0285\n",
      "Epoch 31/50\n",
      "\n",
      "Epoch 31: val_accuracy did not improve from 0.99190\n",
      "1050/1050 - 10s - 9ms/step - accuracy: 0.9875 - loss: 0.0452 - val_accuracy: 0.9915 - val_loss: 0.0284\n",
      "Epoch 32/50\n",
      "\n",
      "Epoch 32: val_accuracy did not improve from 0.99190\n",
      "1050/1050 - 7s - 6ms/step - accuracy: 0.9868 - loss: 0.0479 - val_accuracy: 0.9915 - val_loss: 0.0302\n",
      "Epoch 33/50\n",
      "\n",
      "Epoch 33: val_accuracy did not improve from 0.99190\n",
      "1050/1050 - 7s - 6ms/step - accuracy: 0.9884 - loss: 0.0423 - val_accuracy: 0.9914 - val_loss: 0.0278\n",
      "Epoch 34/50\n",
      "\n",
      "Epoch 34: val_accuracy did not improve from 0.99190\n",
      "1050/1050 - 7s - 6ms/step - accuracy: 0.9878 - loss: 0.0432 - val_accuracy: 0.9914 - val_loss: 0.0280\n",
      "Epoch 35/50\n",
      "\n",
      "Epoch 35: val_accuracy did not improve from 0.99190\n",
      "1050/1050 - 6s - 6ms/step - accuracy: 0.9886 - loss: 0.0392 - val_accuracy: 0.9915 - val_loss: 0.0290\n",
      "Epoch 36/50\n",
      "\n",
      "Epoch 36: val_accuracy did not improve from 0.99190\n",
      "1050/1050 - 6s - 6ms/step - accuracy: 0.9874 - loss: 0.0455 - val_accuracy: 0.9918 - val_loss: 0.0282\n",
      "Epoch 37/50\n",
      "\n",
      "Epoch 37: val_accuracy did not improve from 0.99190\n",
      "1050/1050 - 6s - 6ms/step - accuracy: 0.9885 - loss: 0.0424 - val_accuracy: 0.9917 - val_loss: 0.0296\n",
      "Epoch 38/50\n",
      "\n",
      "Epoch 38: val_accuracy did not improve from 0.99190\n",
      "1050/1050 - 6s - 6ms/step - accuracy: 0.9877 - loss: 0.0450 - val_accuracy: 0.9918 - val_loss: 0.0273\n",
      "Epoch 39/50\n",
      "\n",
      "Epoch 39: val_accuracy did not improve from 0.99190\n",
      "1050/1050 - 6s - 6ms/step - accuracy: 0.9878 - loss: 0.0463 - val_accuracy: 0.9915 - val_loss: 0.0303\n",
      "Epoch 40/50\n",
      "\n",
      "Epoch 40: val_accuracy did not improve from 0.99190\n",
      "1050/1050 - 6s - 6ms/step - accuracy: 0.9881 - loss: 0.0448 - val_accuracy: 0.9915 - val_loss: 0.0295\n",
      "Epoch 41/50\n",
      "\n",
      "Epoch 41: val_accuracy did not improve from 0.99190\n",
      "1050/1050 - 6s - 6ms/step - accuracy: 0.9885 - loss: 0.0436 - val_accuracy: 0.9915 - val_loss: 0.0310\n",
      "Epoch 42/50\n",
      "\n",
      "Epoch 42: val_accuracy did not improve from 0.99190\n",
      "1050/1050 - 6s - 6ms/step - accuracy: 0.9875 - loss: 0.0447 - val_accuracy: 0.9915 - val_loss: 0.0293\n",
      "Epoch 43/50\n",
      "\n",
      "Epoch 43: val_accuracy did not improve from 0.99190\n",
      "1050/1050 - 6s - 6ms/step - accuracy: 0.9881 - loss: 0.0454 - val_accuracy: 0.9918 - val_loss: 0.0299\n",
      "Epoch 44/50\n",
      "\n",
      "Epoch 44: val_accuracy did not improve from 0.99190\n",
      "1050/1050 - 6s - 6ms/step - accuracy: 0.9885 - loss: 0.0398 - val_accuracy: 0.9918 - val_loss: 0.0280\n",
      "Epoch 45/50\n",
      "\n",
      "Epoch 45: val_accuracy did not improve from 0.99190\n",
      "1050/1050 - 6s - 6ms/step - accuracy: 0.9886 - loss: 0.0413 - val_accuracy: 0.9915 - val_loss: 0.0289\n",
      "Epoch 46/50\n",
      "\n",
      "Epoch 46: val_accuracy did not improve from 0.99190\n",
      "1050/1050 - 6s - 6ms/step - accuracy: 0.9886 - loss: 0.0436 - val_accuracy: 0.9914 - val_loss: 0.0310\n",
      "Epoch 47/50\n",
      "\n",
      "Epoch 47: val_accuracy did not improve from 0.99190\n",
      "1050/1050 - 6s - 6ms/step - accuracy: 0.9882 - loss: 0.0462 - val_accuracy: 0.9918 - val_loss: 0.0280\n",
      "Epoch 48/50\n",
      "\n",
      "Epoch 48: val_accuracy did not improve from 0.99190\n",
      "1050/1050 - 6s - 6ms/step - accuracy: 0.9882 - loss: 0.0412 - val_accuracy: 0.9918 - val_loss: 0.0279\n",
      "Epoch 49/50\n",
      "\n",
      "Epoch 49: val_accuracy did not improve from 0.99190\n",
      "1050/1050 - 6s - 6ms/step - accuracy: 0.9872 - loss: 0.0483 - val_accuracy: 0.9918 - val_loss: 0.0267\n",
      "Epoch 50/50\n",
      "\n",
      "Epoch 50: val_accuracy did not improve from 0.99190\n",
      "1050/1050 - 6s - 6ms/step - accuracy: 0.9888 - loss: 0.0399 - val_accuracy: 0.9917 - val_loss: 0.0276\n",
      "\n",
      "🔁 Fold 4\n"
     ]
    },
    {
     "name": "stderr",
     "output_type": "stream",
     "text": [
      "c:\\users\\karan\\appdata\\local\\programs\\python\\python39\\lib\\site-packages\\keras\\src\\layers\\core\\dense.py:87: UserWarning: Do not pass an `input_shape`/`input_dim` argument to a layer. When using Sequential models, prefer using an `Input(shape)` object as the first layer in the model instead.\n",
      "  super().__init__(activity_regularizer=activity_regularizer, **kwargs)\n"
     ]
    },
    {
     "name": "stdout",
     "output_type": "stream",
     "text": [
      "Epoch 1/50\n",
      "\n",
      "Epoch 1: val_accuracy improved from -inf to 0.98619, saving model to model/isl_fold4.h5\n"
     ]
    },
    {
     "name": "stderr",
     "output_type": "stream",
     "text": [
      "WARNING:absl:You are saving your model as an HDF5 file via `model.save()` or `keras.saving.save_model(model)`. This file format is considered legacy. We recommend using instead the native Keras format, e.g. `model.save('my_model.keras')` or `keras.saving.save_model(model, 'my_model.keras')`. \n"
     ]
    },
    {
     "name": "stdout",
     "output_type": "stream",
     "text": [
      "1050/1050 - 9s - 9ms/step - accuracy: 0.8556 - loss: 0.5330 - val_accuracy: 0.9862 - val_loss: 0.0453\n",
      "Epoch 2/50\n",
      "\n",
      "Epoch 2: val_accuracy improved from 0.98619 to 0.99083, saving model to model/isl_fold4.h5\n"
     ]
    },
    {
     "name": "stderr",
     "output_type": "stream",
     "text": [
      "WARNING:absl:You are saving your model as an HDF5 file via `model.save()` or `keras.saving.save_model(model)`. This file format is considered legacy. We recommend using instead the native Keras format, e.g. `model.save('my_model.keras')` or `keras.saving.save_model(model, 'my_model.keras')`. \n"
     ]
    },
    {
     "name": "stdout",
     "output_type": "stream",
     "text": [
      "1050/1050 - 6s - 6ms/step - accuracy: 0.9711 - loss: 0.1000 - val_accuracy: 0.9908 - val_loss: 0.0337\n",
      "Epoch 3/50\n",
      "\n",
      "Epoch 3: val_accuracy did not improve from 0.99083\n",
      "1050/1050 - 6s - 6ms/step - accuracy: 0.9765 - loss: 0.0763 - val_accuracy: 0.9907 - val_loss: 0.0299\n",
      "Epoch 4/50\n",
      "\n",
      "Epoch 4: val_accuracy improved from 0.99083 to 0.99143, saving model to model/isl_fold4.h5\n"
     ]
    },
    {
     "name": "stderr",
     "output_type": "stream",
     "text": [
      "WARNING:absl:You are saving your model as an HDF5 file via `model.save()` or `keras.saving.save_model(model)`. This file format is considered legacy. We recommend using instead the native Keras format, e.g. `model.save('my_model.keras')` or `keras.saving.save_model(model, 'my_model.keras')`. \n"
     ]
    },
    {
     "name": "stdout",
     "output_type": "stream",
     "text": [
      "1050/1050 - 10s - 10ms/step - accuracy: 0.9810 - loss: 0.0631 - val_accuracy: 0.9914 - val_loss: 0.0298\n",
      "Epoch 5/50\n",
      "\n",
      "Epoch 5: val_accuracy improved from 0.99143 to 0.99167, saving model to model/isl_fold4.h5\n"
     ]
    },
    {
     "name": "stderr",
     "output_type": "stream",
     "text": [
      "WARNING:absl:You are saving your model as an HDF5 file via `model.save()` or `keras.saving.save_model(model)`. This file format is considered legacy. We recommend using instead the native Keras format, e.g. `model.save('my_model.keras')` or `keras.saving.save_model(model, 'my_model.keras')`. \n"
     ]
    },
    {
     "name": "stdout",
     "output_type": "stream",
     "text": [
      "1050/1050 - 7s - 6ms/step - accuracy: 0.9816 - loss: 0.0610 - val_accuracy: 0.9917 - val_loss: 0.0282\n",
      "Epoch 6/50\n",
      "\n",
      "Epoch 6: val_accuracy did not improve from 0.99167\n",
      "1050/1050 - 6s - 6ms/step - accuracy: 0.9824 - loss: 0.0587 - val_accuracy: 0.9907 - val_loss: 0.0300\n",
      "Epoch 7/50\n",
      "\n",
      "Epoch 7: val_accuracy improved from 0.99167 to 0.99179, saving model to model/isl_fold4.h5\n"
     ]
    },
    {
     "name": "stderr",
     "output_type": "stream",
     "text": [
      "WARNING:absl:You are saving your model as an HDF5 file via `model.save()` or `keras.saving.save_model(model)`. This file format is considered legacy. We recommend using instead the native Keras format, e.g. `model.save('my_model.keras')` or `keras.saving.save_model(model, 'my_model.keras')`. \n"
     ]
    },
    {
     "name": "stdout",
     "output_type": "stream",
     "text": [
      "1050/1050 - 6s - 6ms/step - accuracy: 0.9822 - loss: 0.0606 - val_accuracy: 0.9918 - val_loss: 0.0282\n",
      "Epoch 8/50\n",
      "\n",
      "Epoch 8: val_accuracy did not improve from 0.99179\n",
      "1050/1050 - 6s - 6ms/step - accuracy: 0.9850 - loss: 0.0492 - val_accuracy: 0.9917 - val_loss: 0.0282\n",
      "Epoch 9/50\n",
      "\n",
      "Epoch 9: val_accuracy did not improve from 0.99179\n",
      "1050/1050 - 6s - 6ms/step - accuracy: 0.9856 - loss: 0.0485 - val_accuracy: 0.9914 - val_loss: 0.0279\n",
      "Epoch 10/50\n",
      "\n",
      "Epoch 10: val_accuracy did not improve from 0.99179\n",
      "1050/1050 - 6s - 6ms/step - accuracy: 0.9854 - loss: 0.0499 - val_accuracy: 0.9914 - val_loss: 0.0306\n",
      "Epoch 11/50\n",
      "\n",
      "Epoch 11: val_accuracy did not improve from 0.99179\n",
      "1050/1050 - 6s - 6ms/step - accuracy: 0.9869 - loss: 0.0445 - val_accuracy: 0.9917 - val_loss: 0.0275\n",
      "Epoch 12/50\n",
      "\n",
      "Epoch 12: val_accuracy did not improve from 0.99179\n",
      "1050/1050 - 6s - 6ms/step - accuracy: 0.9856 - loss: 0.0488 - val_accuracy: 0.9917 - val_loss: 0.0283\n",
      "Epoch 13/50\n",
      "\n",
      "Epoch 13: val_accuracy did not improve from 0.99179\n",
      "1050/1050 - 6s - 6ms/step - accuracy: 0.9851 - loss: 0.0517 - val_accuracy: 0.9917 - val_loss: 0.0283\n",
      "Epoch 14/50\n",
      "\n",
      "Epoch 14: val_accuracy improved from 0.99179 to 0.99202, saving model to model/isl_fold4.h5\n"
     ]
    },
    {
     "name": "stderr",
     "output_type": "stream",
     "text": [
      "WARNING:absl:You are saving your model as an HDF5 file via `model.save()` or `keras.saving.save_model(model)`. This file format is considered legacy. We recommend using instead the native Keras format, e.g. `model.save('my_model.keras')` or `keras.saving.save_model(model, 'my_model.keras')`. \n"
     ]
    },
    {
     "name": "stdout",
     "output_type": "stream",
     "text": [
      "1050/1050 - 6s - 6ms/step - accuracy: 0.9868 - loss: 0.0442 - val_accuracy: 0.9920 - val_loss: 0.0269\n",
      "Epoch 15/50\n",
      "\n",
      "Epoch 15: val_accuracy did not improve from 0.99202\n",
      "1050/1050 - 6s - 6ms/step - accuracy: 0.9863 - loss: 0.0455 - val_accuracy: 0.9920 - val_loss: 0.0268\n",
      "Epoch 16/50\n",
      "\n",
      "Epoch 16: val_accuracy did not improve from 0.99202\n",
      "1050/1050 - 6s - 6ms/step - accuracy: 0.9869 - loss: 0.0451 - val_accuracy: 0.9907 - val_loss: 0.0292\n",
      "Epoch 17/50\n",
      "\n",
      "Epoch 17: val_accuracy did not improve from 0.99202\n",
      "1050/1050 - 6s - 6ms/step - accuracy: 0.9857 - loss: 0.0517 - val_accuracy: 0.9919 - val_loss: 0.0267\n",
      "Epoch 18/50\n",
      "\n",
      "Epoch 18: val_accuracy did not improve from 0.99202\n",
      "1050/1050 - 6s - 6ms/step - accuracy: 0.9866 - loss: 0.0472 - val_accuracy: 0.9919 - val_loss: 0.0264\n",
      "Epoch 19/50\n",
      "\n",
      "Epoch 19: val_accuracy did not improve from 0.99202\n",
      "1050/1050 - 6s - 6ms/step - accuracy: 0.9872 - loss: 0.0436 - val_accuracy: 0.9920 - val_loss: 0.0269\n",
      "Epoch 20/50\n",
      "\n",
      "Epoch 20: val_accuracy did not improve from 0.99202\n",
      "1050/1050 - 6s - 6ms/step - accuracy: 0.9873 - loss: 0.0420 - val_accuracy: 0.9919 - val_loss: 0.0294\n",
      "Epoch 21/50\n",
      "\n",
      "Epoch 21: val_accuracy improved from 0.99202 to 0.99214, saving model to model/isl_fold4.h5\n"
     ]
    },
    {
     "name": "stderr",
     "output_type": "stream",
     "text": [
      "WARNING:absl:You are saving your model as an HDF5 file via `model.save()` or `keras.saving.save_model(model)`. This file format is considered legacy. We recommend using instead the native Keras format, e.g. `model.save('my_model.keras')` or `keras.saving.save_model(model, 'my_model.keras')`. \n"
     ]
    },
    {
     "name": "stdout",
     "output_type": "stream",
     "text": [
      "1050/1050 - 7s - 6ms/step - accuracy: 0.9868 - loss: 0.0476 - val_accuracy: 0.9921 - val_loss: 0.0257\n",
      "Epoch 22/50\n",
      "\n",
      "Epoch 22: val_accuracy did not improve from 0.99214\n",
      "1050/1050 - 6s - 6ms/step - accuracy: 0.9871 - loss: 0.0462 - val_accuracy: 0.9919 - val_loss: 0.0277\n",
      "Epoch 23/50\n",
      "\n",
      "Epoch 23: val_accuracy did not improve from 0.99214\n",
      "1050/1050 - 6s - 6ms/step - accuracy: 0.9880 - loss: 0.0406 - val_accuracy: 0.9919 - val_loss: 0.0269\n",
      "Epoch 24/50\n",
      "\n",
      "Epoch 24: val_accuracy did not improve from 0.99214\n",
      "1050/1050 - 6s - 6ms/step - accuracy: 0.9866 - loss: 0.0497 - val_accuracy: 0.9920 - val_loss: 0.0280\n",
      "Epoch 25/50\n",
      "\n",
      "Epoch 25: val_accuracy did not improve from 0.99214\n",
      "1050/1050 - 6s - 6ms/step - accuracy: 0.9873 - loss: 0.0449 - val_accuracy: 0.9919 - val_loss: 0.0284\n",
      "Epoch 26/50\n",
      "\n",
      "Epoch 26: val_accuracy did not improve from 0.99214\n",
      "1050/1050 - 6s - 6ms/step - accuracy: 0.9879 - loss: 0.0420 - val_accuracy: 0.9920 - val_loss: 0.0272\n",
      "Epoch 27/50\n",
      "\n",
      "Epoch 27: val_accuracy did not improve from 0.99214\n",
      "1050/1050 - 6s - 6ms/step - accuracy: 0.9877 - loss: 0.0439 - val_accuracy: 0.9911 - val_loss: 0.0278\n",
      "Epoch 28/50\n",
      "\n",
      "Epoch 28: val_accuracy did not improve from 0.99214\n",
      "1050/1050 - 6s - 6ms/step - accuracy: 0.9883 - loss: 0.0411 - val_accuracy: 0.9919 - val_loss: 0.0280\n",
      "Epoch 29/50\n",
      "\n",
      "Epoch 29: val_accuracy did not improve from 0.99214\n",
      "1050/1050 - 6s - 6ms/step - accuracy: 0.9864 - loss: 0.0476 - val_accuracy: 0.9920 - val_loss: 0.0292\n",
      "Epoch 30/50\n",
      "\n",
      "Epoch 30: val_accuracy did not improve from 0.99214\n",
      "1050/1050 - 6s - 6ms/step - accuracy: 0.9876 - loss: 0.0438 - val_accuracy: 0.9919 - val_loss: 0.0270\n",
      "Epoch 31/50\n",
      "\n",
      "Epoch 31: val_accuracy did not improve from 0.99214\n",
      "1050/1050 - 6s - 6ms/step - accuracy: 0.9877 - loss: 0.0415 - val_accuracy: 0.9919 - val_loss: 0.0268\n",
      "Epoch 32/50\n",
      "\n",
      "Epoch 32: val_accuracy did not improve from 0.99214\n",
      "1050/1050 - 6s - 6ms/step - accuracy: 0.9878 - loss: 0.0430 - val_accuracy: 0.9920 - val_loss: 0.0280\n",
      "Epoch 33/50\n",
      "\n",
      "Epoch 33: val_accuracy did not improve from 0.99214\n",
      "1050/1050 - 6s - 6ms/step - accuracy: 0.9878 - loss: 0.0433 - val_accuracy: 0.9920 - val_loss: 0.0292\n",
      "Epoch 34/50\n",
      "\n",
      "Epoch 34: val_accuracy did not improve from 0.99214\n",
      "1050/1050 - 6s - 6ms/step - accuracy: 0.9879 - loss: 0.0438 - val_accuracy: 0.9920 - val_loss: 0.0294\n",
      "Epoch 35/50\n",
      "\n",
      "Epoch 35: val_accuracy did not improve from 0.99214\n",
      "1050/1050 - 6s - 6ms/step - accuracy: 0.9879 - loss: 0.0454 - val_accuracy: 0.9920 - val_loss: 0.0289\n",
      "Epoch 36/50\n",
      "\n",
      "Epoch 36: val_accuracy did not improve from 0.99214\n",
      "1050/1050 - 6s - 6ms/step - accuracy: 0.9881 - loss: 0.0426 - val_accuracy: 0.9919 - val_loss: 0.0289\n",
      "Epoch 37/50\n",
      "\n",
      "Epoch 37: val_accuracy did not improve from 0.99214\n",
      "1050/1050 - 6s - 6ms/step - accuracy: 0.9875 - loss: 0.0453 - val_accuracy: 0.9919 - val_loss: 0.0298\n",
      "Epoch 38/50\n",
      "\n",
      "Epoch 38: val_accuracy did not improve from 0.99214\n",
      "1050/1050 - 6s - 6ms/step - accuracy: 0.9877 - loss: 0.0458 - val_accuracy: 0.9920 - val_loss: 0.0272\n",
      "Epoch 39/50\n",
      "\n",
      "Epoch 39: val_accuracy did not improve from 0.99214\n",
      "1050/1050 - 6s - 6ms/step - accuracy: 0.9892 - loss: 0.0384 - val_accuracy: 0.9920 - val_loss: 0.0277\n",
      "Epoch 40/50\n",
      "\n",
      "Epoch 40: val_accuracy did not improve from 0.99214\n",
      "1050/1050 - 6s - 6ms/step - accuracy: 0.9871 - loss: 0.0524 - val_accuracy: 0.9921 - val_loss: 0.0255\n",
      "Epoch 41/50\n",
      "\n",
      "Epoch 41: val_accuracy did not improve from 0.99214\n",
      "1050/1050 - 6s - 6ms/step - accuracy: 0.9878 - loss: 0.0425 - val_accuracy: 0.9920 - val_loss: 0.0274\n",
      "Epoch 42/50\n",
      "\n",
      "Epoch 42: val_accuracy did not improve from 0.99214\n",
      "1050/1050 - 6s - 6ms/step - accuracy: 0.9886 - loss: 0.0378 - val_accuracy: 0.9920 - val_loss: 0.0277\n",
      "Epoch 43/50\n",
      "\n",
      "Epoch 43: val_accuracy improved from 0.99214 to 0.99226, saving model to model/isl_fold4.h5\n"
     ]
    },
    {
     "name": "stderr",
     "output_type": "stream",
     "text": [
      "WARNING:absl:You are saving your model as an HDF5 file via `model.save()` or `keras.saving.save_model(model)`. This file format is considered legacy. We recommend using instead the native Keras format, e.g. `model.save('my_model.keras')` or `keras.saving.save_model(model, 'my_model.keras')`. \n"
     ]
    },
    {
     "name": "stdout",
     "output_type": "stream",
     "text": [
      "1050/1050 - 6s - 6ms/step - accuracy: 0.9881 - loss: 0.0422 - val_accuracy: 0.9923 - val_loss: 0.0258\n",
      "Epoch 44/50\n",
      "\n",
      "Epoch 44: val_accuracy did not improve from 0.99226\n",
      "1050/1050 - 6s - 6ms/step - accuracy: 0.9872 - loss: 0.0470 - val_accuracy: 0.9921 - val_loss: 0.0268\n",
      "Epoch 45/50\n",
      "\n",
      "Epoch 45: val_accuracy did not improve from 0.99226\n",
      "1050/1050 - 10s - 10ms/step - accuracy: 0.9888 - loss: 0.0390 - val_accuracy: 0.9920 - val_loss: 0.0268\n",
      "Epoch 46/50\n",
      "\n",
      "Epoch 46: val_accuracy did not improve from 0.99226\n",
      "1050/1050 - 6s - 6ms/step - accuracy: 0.9885 - loss: 0.0416 - val_accuracy: 0.9920 - val_loss: 0.0280\n",
      "Epoch 47/50\n",
      "\n",
      "Epoch 47: val_accuracy did not improve from 0.99226\n",
      "1050/1050 - 6s - 6ms/step - accuracy: 0.9882 - loss: 0.0434 - val_accuracy: 0.9920 - val_loss: 0.0288\n",
      "Epoch 48/50\n",
      "\n",
      "Epoch 48: val_accuracy did not improve from 0.99226\n",
      "1050/1050 - 6s - 6ms/step - accuracy: 0.9883 - loss: 0.0460 - val_accuracy: 0.9921 - val_loss: 0.0304\n",
      "Epoch 49/50\n",
      "\n",
      "Epoch 49: val_accuracy did not improve from 0.99226\n",
      "1050/1050 - 6s - 6ms/step - accuracy: 0.9885 - loss: 0.0445 - val_accuracy: 0.9920 - val_loss: 0.0283\n",
      "Epoch 50/50\n",
      "\n",
      "Epoch 50: val_accuracy did not improve from 0.99226\n",
      "1050/1050 - 6s - 6ms/step - accuracy: 0.9884 - loss: 0.0444 - val_accuracy: 0.9920 - val_loss: 0.0288\n",
      "\n",
      "🔁 Fold 5\n"
     ]
    },
    {
     "name": "stderr",
     "output_type": "stream",
     "text": [
      "c:\\users\\karan\\appdata\\local\\programs\\python\\python39\\lib\\site-packages\\keras\\src\\layers\\core\\dense.py:87: UserWarning: Do not pass an `input_shape`/`input_dim` argument to a layer. When using Sequential models, prefer using an `Input(shape)` object as the first layer in the model instead.\n",
      "  super().__init__(activity_regularizer=activity_regularizer, **kwargs)\n"
     ]
    },
    {
     "name": "stdout",
     "output_type": "stream",
     "text": [
      "Epoch 1/50\n",
      "\n",
      "Epoch 1: val_accuracy improved from -inf to 0.98655, saving model to model/isl_fold5.h5\n"
     ]
    },
    {
     "name": "stderr",
     "output_type": "stream",
     "text": [
      "WARNING:absl:You are saving your model as an HDF5 file via `model.save()` or `keras.saving.save_model(model)`. This file format is considered legacy. We recommend using instead the native Keras format, e.g. `model.save('my_model.keras')` or `keras.saving.save_model(model, 'my_model.keras')`. \n"
     ]
    },
    {
     "name": "stdout",
     "output_type": "stream",
     "text": [
      "1050/1050 - 9s - 9ms/step - accuracy: 0.8530 - loss: 0.5397 - val_accuracy: 0.9865 - val_loss: 0.0492\n",
      "Epoch 2/50\n",
      "\n",
      "Epoch 2: val_accuracy improved from 0.98655 to 0.98881, saving model to model/isl_fold5.h5\n"
     ]
    },
    {
     "name": "stderr",
     "output_type": "stream",
     "text": [
      "WARNING:absl:You are saving your model as an HDF5 file via `model.save()` or `keras.saving.save_model(model)`. This file format is considered legacy. We recommend using instead the native Keras format, e.g. `model.save('my_model.keras')` or `keras.saving.save_model(model, 'my_model.keras')`. \n"
     ]
    },
    {
     "name": "stdout",
     "output_type": "stream",
     "text": [
      "1050/1050 - 6s - 6ms/step - accuracy: 0.9709 - loss: 0.0990 - val_accuracy: 0.9888 - val_loss: 0.0381\n",
      "Epoch 3/50\n",
      "\n",
      "Epoch 3: val_accuracy improved from 0.98881 to 0.98964, saving model to model/isl_fold5.h5\n"
     ]
    },
    {
     "name": "stderr",
     "output_type": "stream",
     "text": [
      "WARNING:absl:You are saving your model as an HDF5 file via `model.save()` or `keras.saving.save_model(model)`. This file format is considered legacy. We recommend using instead the native Keras format, e.g. `model.save('my_model.keras')` or `keras.saving.save_model(model, 'my_model.keras')`. \n"
     ]
    },
    {
     "name": "stdout",
     "output_type": "stream",
     "text": [
      "1050/1050 - 10s - 10ms/step - accuracy: 0.9772 - loss: 0.0756 - val_accuracy: 0.9896 - val_loss: 0.0338\n",
      "Epoch 4/50\n",
      "\n",
      "Epoch 4: val_accuracy improved from 0.98964 to 0.99012, saving model to model/isl_fold5.h5\n"
     ]
    },
    {
     "name": "stderr",
     "output_type": "stream",
     "text": [
      "WARNING:absl:You are saving your model as an HDF5 file via `model.save()` or `keras.saving.save_model(model)`. This file format is considered legacy. We recommend using instead the native Keras format, e.g. `model.save('my_model.keras')` or `keras.saving.save_model(model, 'my_model.keras')`. \n"
     ]
    },
    {
     "name": "stdout",
     "output_type": "stream",
     "text": [
      "1050/1050 - 6s - 6ms/step - accuracy: 0.9794 - loss: 0.0690 - val_accuracy: 0.9901 - val_loss: 0.0313\n",
      "Epoch 5/50\n",
      "\n",
      "Epoch 5: val_accuracy improved from 0.99012 to 0.99048, saving model to model/isl_fold5.h5\n"
     ]
    },
    {
     "name": "stderr",
     "output_type": "stream",
     "text": [
      "WARNING:absl:You are saving your model as an HDF5 file via `model.save()` or `keras.saving.save_model(model)`. This file format is considered legacy. We recommend using instead the native Keras format, e.g. `model.save('my_model.keras')` or `keras.saving.save_model(model, 'my_model.keras')`. \n"
     ]
    },
    {
     "name": "stdout",
     "output_type": "stream",
     "text": [
      "1050/1050 - 6s - 6ms/step - accuracy: 0.9833 - loss: 0.0572 - val_accuracy: 0.9905 - val_loss: 0.0319\n",
      "Epoch 6/50\n",
      "\n",
      "Epoch 6: val_accuracy did not improve from 0.99048\n",
      "1050/1050 - 6s - 6ms/step - accuracy: 0.9825 - loss: 0.0584 - val_accuracy: 0.9905 - val_loss: 0.0314\n",
      "Epoch 7/50\n",
      "\n",
      "Epoch 7: val_accuracy improved from 0.99048 to 0.99155, saving model to model/isl_fold5.h5\n"
     ]
    },
    {
     "name": "stderr",
     "output_type": "stream",
     "text": [
      "WARNING:absl:You are saving your model as an HDF5 file via `model.save()` or `keras.saving.save_model(model)`. This file format is considered legacy. We recommend using instead the native Keras format, e.g. `model.save('my_model.keras')` or `keras.saving.save_model(model, 'my_model.keras')`. \n"
     ]
    },
    {
     "name": "stdout",
     "output_type": "stream",
     "text": [
      "1050/1050 - 6s - 6ms/step - accuracy: 0.9832 - loss: 0.0553 - val_accuracy: 0.9915 - val_loss: 0.0279\n",
      "Epoch 8/50\n",
      "\n",
      "Epoch 8: val_accuracy did not improve from 0.99155\n",
      "1050/1050 - 6s - 6ms/step - accuracy: 0.9851 - loss: 0.0472 - val_accuracy: 0.9904 - val_loss: 0.0316\n",
      "Epoch 9/50\n",
      "\n",
      "Epoch 9: val_accuracy improved from 0.99155 to 0.99190, saving model to model/isl_fold5.h5\n"
     ]
    },
    {
     "name": "stderr",
     "output_type": "stream",
     "text": [
      "WARNING:absl:You are saving your model as an HDF5 file via `model.save()` or `keras.saving.save_model(model)`. This file format is considered legacy. We recommend using instead the native Keras format, e.g. `model.save('my_model.keras')` or `keras.saving.save_model(model, 'my_model.keras')`. \n"
     ]
    },
    {
     "name": "stdout",
     "output_type": "stream",
     "text": [
      "1050/1050 - 6s - 6ms/step - accuracy: 0.9846 - loss: 0.0516 - val_accuracy: 0.9919 - val_loss: 0.0280\n",
      "Epoch 10/50\n",
      "\n",
      "Epoch 10: val_accuracy improved from 0.99190 to 0.99202, saving model to model/isl_fold5.h5\n"
     ]
    },
    {
     "name": "stderr",
     "output_type": "stream",
     "text": [
      "WARNING:absl:You are saving your model as an HDF5 file via `model.save()` or `keras.saving.save_model(model)`. This file format is considered legacy. We recommend using instead the native Keras format, e.g. `model.save('my_model.keras')` or `keras.saving.save_model(model, 'my_model.keras')`. \n"
     ]
    },
    {
     "name": "stdout",
     "output_type": "stream",
     "text": [
      "1050/1050 - 6s - 6ms/step - accuracy: 0.9847 - loss: 0.0512 - val_accuracy: 0.9920 - val_loss: 0.0269\n",
      "Epoch 11/50\n",
      "\n",
      "Epoch 11: val_accuracy improved from 0.99202 to 0.99226, saving model to model/isl_fold5.h5\n"
     ]
    },
    {
     "name": "stderr",
     "output_type": "stream",
     "text": [
      "WARNING:absl:You are saving your model as an HDF5 file via `model.save()` or `keras.saving.save_model(model)`. This file format is considered legacy. We recommend using instead the native Keras format, e.g. `model.save('my_model.keras')` or `keras.saving.save_model(model, 'my_model.keras')`. \n"
     ]
    },
    {
     "name": "stdout",
     "output_type": "stream",
     "text": [
      "1050/1050 - 6s - 6ms/step - accuracy: 0.9848 - loss: 0.0506 - val_accuracy: 0.9923 - val_loss: 0.0269\n",
      "Epoch 12/50\n",
      "\n",
      "Epoch 12: val_accuracy improved from 0.99226 to 0.99238, saving model to model/isl_fold5.h5\n"
     ]
    },
    {
     "name": "stderr",
     "output_type": "stream",
     "text": [
      "WARNING:absl:You are saving your model as an HDF5 file via `model.save()` or `keras.saving.save_model(model)`. This file format is considered legacy. We recommend using instead the native Keras format, e.g. `model.save('my_model.keras')` or `keras.saving.save_model(model, 'my_model.keras')`. \n"
     ]
    },
    {
     "name": "stdout",
     "output_type": "stream",
     "text": [
      "1050/1050 - 6s - 6ms/step - accuracy: 0.9853 - loss: 0.0500 - val_accuracy: 0.9924 - val_loss: 0.0266\n",
      "Epoch 13/50\n",
      "\n",
      "Epoch 13: val_accuracy did not improve from 0.99238\n",
      "1050/1050 - 6s - 6ms/step - accuracy: 0.9864 - loss: 0.0441 - val_accuracy: 0.9924 - val_loss: 0.0269\n",
      "Epoch 14/50\n",
      "\n",
      "Epoch 14: val_accuracy did not improve from 0.99238\n",
      "1050/1050 - 6s - 6ms/step - accuracy: 0.9854 - loss: 0.0509 - val_accuracy: 0.9917 - val_loss: 0.0287\n",
      "Epoch 15/50\n",
      "\n",
      "Epoch 15: val_accuracy did not improve from 0.99238\n",
      "1050/1050 - 6s - 6ms/step - accuracy: 0.9859 - loss: 0.0493 - val_accuracy: 0.9924 - val_loss: 0.0267\n",
      "Epoch 16/50\n",
      "\n",
      "Epoch 16: val_accuracy did not improve from 0.99238\n",
      "1050/1050 - 6s - 6ms/step - accuracy: 0.9868 - loss: 0.0441 - val_accuracy: 0.9923 - val_loss: 0.0263\n",
      "Epoch 17/50\n",
      "\n",
      "Epoch 17: val_accuracy did not improve from 0.99238\n",
      "1050/1050 - 6s - 6ms/step - accuracy: 0.9864 - loss: 0.0460 - val_accuracy: 0.9924 - val_loss: 0.0263\n",
      "Epoch 18/50\n",
      "\n",
      "Epoch 18: val_accuracy did not improve from 0.99238\n",
      "1050/1050 - 6s - 6ms/step - accuracy: 0.9864 - loss: 0.0445 - val_accuracy: 0.9921 - val_loss: 0.0267\n",
      "Epoch 19/50\n",
      "\n",
      "Epoch 19: val_accuracy did not improve from 0.99238\n",
      "1050/1050 - 6s - 6ms/step - accuracy: 0.9860 - loss: 0.0489 - val_accuracy: 0.9923 - val_loss: 0.0270\n",
      "Epoch 20/50\n",
      "\n",
      "Epoch 20: val_accuracy did not improve from 0.99238\n",
      "1050/1050 - 6s - 6ms/step - accuracy: 0.9878 - loss: 0.0399 - val_accuracy: 0.9919 - val_loss: 0.0266\n",
      "Epoch 21/50\n",
      "\n",
      "Epoch 21: val_accuracy did not improve from 0.99238\n",
      "1050/1050 - 6s - 6ms/step - accuracy: 0.9866 - loss: 0.0452 - val_accuracy: 0.9924 - val_loss: 0.0255\n",
      "Epoch 22/50\n",
      "\n",
      "Epoch 22: val_accuracy did not improve from 0.99238\n",
      "1050/1050 - 6s - 6ms/step - accuracy: 0.9871 - loss: 0.0441 - val_accuracy: 0.9923 - val_loss: 0.0257\n",
      "Epoch 23/50\n",
      "\n",
      "Epoch 23: val_accuracy did not improve from 0.99238\n",
      "1050/1050 - 6s - 6ms/step - accuracy: 0.9868 - loss: 0.0444 - val_accuracy: 0.9921 - val_loss: 0.0262\n",
      "Epoch 24/50\n",
      "\n",
      "Epoch 24: val_accuracy did not improve from 0.99238\n",
      "1050/1050 - 10s - 10ms/step - accuracy: 0.9868 - loss: 0.0474 - val_accuracy: 0.9915 - val_loss: 0.0266\n",
      "Epoch 25/50\n",
      "\n",
      "Epoch 25: val_accuracy did not improve from 0.99238\n",
      "1050/1050 - 6s - 6ms/step - accuracy: 0.9870 - loss: 0.0433 - val_accuracy: 0.9917 - val_loss: 0.0291\n",
      "Epoch 26/50\n",
      "\n",
      "Epoch 26: val_accuracy did not improve from 0.99238\n",
      "1050/1050 - 6s - 6ms/step - accuracy: 0.9866 - loss: 0.0468 - val_accuracy: 0.9923 - val_loss: 0.0263\n",
      "Epoch 27/50\n",
      "\n",
      "Epoch 27: val_accuracy did not improve from 0.99238\n",
      "1050/1050 - 6s - 6ms/step - accuracy: 0.9876 - loss: 0.0427 - val_accuracy: 0.9921 - val_loss: 0.0263\n",
      "Epoch 28/50\n",
      "\n",
      "Epoch 28: val_accuracy did not improve from 0.99238\n",
      "1050/1050 - 6s - 6ms/step - accuracy: 0.9885 - loss: 0.0423 - val_accuracy: 0.9924 - val_loss: 0.0265\n",
      "Epoch 29/50\n",
      "\n",
      "Epoch 29: val_accuracy did not improve from 0.99238\n",
      "1050/1050 - 6s - 6ms/step - accuracy: 0.9877 - loss: 0.0419 - val_accuracy: 0.9923 - val_loss: 0.0258\n",
      "Epoch 30/50\n",
      "\n",
      "Epoch 30: val_accuracy did not improve from 0.99238\n",
      "1050/1050 - 6s - 6ms/step - accuracy: 0.9867 - loss: 0.0462 - val_accuracy: 0.9921 - val_loss: 0.0262\n",
      "Epoch 31/50\n",
      "\n",
      "Epoch 31: val_accuracy did not improve from 0.99238\n",
      "1050/1050 - 6s - 6ms/step - accuracy: 0.9876 - loss: 0.0428 - val_accuracy: 0.9923 - val_loss: 0.0262\n",
      "Epoch 32/50\n",
      "\n",
      "Epoch 32: val_accuracy did not improve from 0.99238\n",
      "1050/1050 - 6s - 6ms/step - accuracy: 0.9878 - loss: 0.0462 - val_accuracy: 0.9923 - val_loss: 0.0261\n",
      "Epoch 33/50\n",
      "\n",
      "Epoch 33: val_accuracy did not improve from 0.99238\n",
      "1050/1050 - 7s - 6ms/step - accuracy: 0.9879 - loss: 0.0430 - val_accuracy: 0.9924 - val_loss: 0.0256\n",
      "Epoch 34/50\n",
      "\n",
      "Epoch 34: val_accuracy did not improve from 0.99238\n",
      "1050/1050 - 6s - 6ms/step - accuracy: 0.9873 - loss: 0.0457 - val_accuracy: 0.9917 - val_loss: 0.0265\n",
      "Epoch 35/50\n",
      "\n",
      "Epoch 35: val_accuracy did not improve from 0.99238\n",
      "1050/1050 - 6s - 6ms/step - accuracy: 0.9883 - loss: 0.0421 - val_accuracy: 0.9923 - val_loss: 0.0258\n",
      "Epoch 36/50\n",
      "\n",
      "Epoch 36: val_accuracy did not improve from 0.99238\n",
      "1050/1050 - 6s - 6ms/step - accuracy: 0.9880 - loss: 0.0410 - val_accuracy: 0.9924 - val_loss: 0.0259\n",
      "Epoch 37/50\n",
      "\n",
      "Epoch 37: val_accuracy did not improve from 0.99238\n",
      "1050/1050 - 6s - 6ms/step - accuracy: 0.9879 - loss: 0.0434 - val_accuracy: 0.9921 - val_loss: 0.0258\n",
      "Epoch 38/50\n",
      "\n",
      "Epoch 38: val_accuracy did not improve from 0.99238\n",
      "1050/1050 - 6s - 6ms/step - accuracy: 0.9876 - loss: 0.0453 - val_accuracy: 0.9924 - val_loss: 0.0252\n",
      "Epoch 39/50\n",
      "\n",
      "Epoch 39: val_accuracy did not improve from 0.99238\n",
      "1050/1050 - 6s - 6ms/step - accuracy: 0.9880 - loss: 0.0428 - val_accuracy: 0.9923 - val_loss: 0.0254\n",
      "Epoch 40/50\n",
      "\n",
      "Epoch 40: val_accuracy did not improve from 0.99238\n",
      "1050/1050 - 6s - 6ms/step - accuracy: 0.9883 - loss: 0.0401 - val_accuracy: 0.9924 - val_loss: 0.0255\n",
      "Epoch 41/50\n",
      "\n",
      "Epoch 41: val_accuracy did not improve from 0.99238\n",
      "1050/1050 - 6s - 6ms/step - accuracy: 0.9885 - loss: 0.0413 - val_accuracy: 0.9924 - val_loss: 0.0261\n",
      "Epoch 42/50\n",
      "\n",
      "Epoch 42: val_accuracy did not improve from 0.99238\n",
      "1050/1050 - 6s - 6ms/step - accuracy: 0.9876 - loss: 0.0445 - val_accuracy: 0.9920 - val_loss: 0.0262\n",
      "Epoch 43/50\n",
      "\n",
      "Epoch 43: val_accuracy did not improve from 0.99238\n",
      "1050/1050 - 6s - 6ms/step - accuracy: 0.9880 - loss: 0.0449 - val_accuracy: 0.9921 - val_loss: 0.0275\n",
      "Epoch 44/50\n",
      "\n",
      "Epoch 44: val_accuracy did not improve from 0.99238\n",
      "1050/1050 - 6s - 6ms/step - accuracy: 0.9877 - loss: 0.0491 - val_accuracy: 0.9924 - val_loss: 0.0256\n",
      "Epoch 45/50\n",
      "\n",
      "Epoch 45: val_accuracy did not improve from 0.99238\n",
      "1050/1050 - 6s - 6ms/step - accuracy: 0.9888 - loss: 0.0385 - val_accuracy: 0.9924 - val_loss: 0.0258\n",
      "Epoch 46/50\n",
      "\n",
      "Epoch 46: val_accuracy did not improve from 0.99238\n",
      "1050/1050 - 6s - 6ms/step - accuracy: 0.9880 - loss: 0.0435 - val_accuracy: 0.9921 - val_loss: 0.0265\n",
      "Epoch 47/50\n",
      "\n",
      "Epoch 47: val_accuracy did not improve from 0.99238\n",
      "1050/1050 - 6s - 6ms/step - accuracy: 0.9878 - loss: 0.0448 - val_accuracy: 0.9921 - val_loss: 0.0266\n",
      "Epoch 48/50\n",
      "\n",
      "Epoch 48: val_accuracy did not improve from 0.99238\n",
      "1050/1050 - 6s - 6ms/step - accuracy: 0.9885 - loss: 0.0398 - val_accuracy: 0.9923 - val_loss: 0.0258\n",
      "Epoch 49/50\n",
      "\n",
      "Epoch 49: val_accuracy did not improve from 0.99238\n",
      "1050/1050 - 6s - 6ms/step - accuracy: 0.9885 - loss: 0.0439 - val_accuracy: 0.9924 - val_loss: 0.0266\n",
      "Epoch 50/50\n",
      "\n",
      "Epoch 50: val_accuracy did not improve from 0.99238\n",
      "1050/1050 - 6s - 6ms/step - accuracy: 0.9876 - loss: 0.0482 - val_accuracy: 0.9921 - val_loss: 0.0257\n",
      "✅ All folds completed. Best models saved.\n"
     ]
    }
   ],
   "source": [
    "# === Cross-validation training ===\n",
    "print(\"🏁 Starting cross-validation training...\")\n",
    "skf = StratifiedKFold(n_splits=NUM_FOLDS, shuffle=True, random_state=42)\n",
    "fold = 1\n",
    "for train_index, val_index in skf.split(X, y):\n",
    "    print(f\"\\n🔁 Fold {fold}\")\n",
    "    X_train, X_val = X[train_index], X[val_index]\n",
    "    y_train, y_val = y_cat[train_index], y_cat[val_index]\n",
    "\n",
    "    # Compute class weights for imbalance\n",
    "    y_train_int = np.argmax(y_train, axis=1)\n",
    "    class_weights = compute_class_weight('balanced', classes=np.unique(y_train_int), y=y_train_int)\n",
    "    class_weights_dict = dict(enumerate(class_weights))\n",
    "\n",
    "    # Build and train model\n",
    "    model = build_model(X.shape[1], NUM_CLASSES)\n",
    "\n",
    "    # Save the best model of the fold\n",
    "    checkpoint_path = f\"model/isl_fold{fold}.h5\"\n",
    "    checkpoint = ModelCheckpoint(checkpoint_path, monitor='val_accuracy', save_best_only=True, verbose=1)\n",
    "\n",
    "    model.fit(\n",
    "        X_train, y_train,\n",
    "        validation_data=(X_val, y_val),\n",
    "        epochs=50,\n",
    "        batch_size=32,\n",
    "        class_weight=class_weights_dict,\n",
    "        callbacks=[checkpoint],\n",
    "        verbose=2\n",
    "    )\n",
    "    fold += 1\n",
    "\n",
    "print(\"✅ All folds completed. Best models saved.\")"
   ]
  },
  {
   "cell_type": "code",
   "execution_count": null,
   "id": "0532a036-4855-4442-9702-90c6227768ab",
   "metadata": {},
   "outputs": [],
   "source": []
  }
 ],
 "metadata": {
  "kernelspec": {
   "display_name": "Python 3 (ipykernel)",
   "language": "python",
   "name": "python3"
  },
  "language_info": {
   "codemirror_mode": {
    "name": "ipython",
    "version": 3
   },
   "file_extension": ".py",
   "mimetype": "text/x-python",
   "name": "python",
   "nbconvert_exporter": "python",
   "pygments_lexer": "ipython3",
   "version": "3.9.13"
  }
 },
 "nbformat": 4,
 "nbformat_minor": 5
}
